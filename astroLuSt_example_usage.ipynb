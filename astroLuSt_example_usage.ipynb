{
 "cells": [
  {
   "cell_type": "markdown",
   "metadata": {},
   "source": [
    "# astroLuSt"
   ]
  },
  {
   "cell_type": "code",
   "execution_count": 1,
   "metadata": {},
   "outputs": [],
   "source": [
    "import astroLuSt as al"
   ]
  },
  {
   "cell_type": "markdown",
   "metadata": {},
   "source": [
    "## Time_stuff"
   ]
  },
  {
   "cell_type": "code",
   "execution_count": 5,
   "metadata": {},
   "outputs": [
    {
     "name": "stdout",
     "output_type": "stream",
     "text": [
      "--> Started some task at time 2021-10-20 08:48:27.982265\n",
      "--> Started another task at time 2021-10-20 08:48:29.984731\n",
      "--> Time needed for some task: 0:00:05.004966\n",
      "--> Finished some task at time 2021-10-20 08:48:32.987231\n",
      "--> Time needed for another task: 0:00:03.002500\n",
      "--> Finished another task at time 2021-10-20 08:48:32.987231\n"
     ]
    }
   ],
   "source": [
    "import time     #just loaded to simulate a task running\n",
    "\n",
    "#create tasks\n",
    "task = al.Time_stuff(\"some task\")\n",
    "task2 = al.Time_stuff(\"another task\")\n",
    "\n",
    "#time running-time of two intertwined tasks\n",
    "task.start_task()\n",
    "time.sleep(2)   #run some task\n",
    "task2.start_task()\n",
    "time.sleep(3)   #run some other task\n",
    "task.end_task()\n",
    "task2.end_task()\n"
   ]
  },
  {
   "cell_type": "markdown",
   "metadata": {},
   "source": [
    "## Table_LuSt"
   ]
  },
  {
   "cell_type": "markdown",
   "metadata": {},
   "source": [
    "Create Table_LuSt object and populate with a header and two rows"
   ]
  },
  {
   "cell_type": "code",
   "execution_count": 19,
   "metadata": {},
   "outputs": [
    {
     "name": "stdout",
     "output_type": "stream",
     "text": [
      "\n",
      "Table_LuSt(\n",
      "header = ['C1', 'C2', 'C3', 'C4'],\n",
      "rows = [['t11', 246, 2.45, 1000000.0], ['t21', 1, 26.45, 0.0012]],\n",
      "formatstrings = [['%10s', '%8d', '%8.3f', '%12.1e'], ['%10s', '%8d', '%8.3f', '%12.1e']],\n",
      "separators = ['||', '|', ' ', '|'],\n",
      "alignments = ['l', 'c', 'c', 'r']newsections = [False, '-'],\n",
      ")\n",
      " # ||C1        |   C2       C3   |          C4\n",
      "==============================================\n",
      " 1 ||t11       |  246     2.450  |     1.0e+06\n",
      "----------------------------------------------\n",
      " 2 ||t21       |   1      26.450 |     1.2e-03\n",
      "----------------------------------------------\n"
     ]
    }
   ],
   "source": [
    "header = [\"C1\", \"C2\", \"C3\", \"C4\"]\n",
    "separators = [\"||\", \"|\", \" \", \"|\"]\n",
    "alignments = [\"l\", \"c\", \"c\", \"r\"]\n",
    "row1 = [\"t11\", 246, 2.45, 1E6]\n",
    "row2 = [\"t21\", 1, 26.45, 1.2E-3]\n",
    "row12 = [row1, row2]\n",
    "fstring12 = 2*[[\"%10s\", \"%8d\", \"%8.3f\", \"%12.1e\"]]    #formatstrings for row1 and row2\n",
    "newsects = [False, \"-\"]\n",
    "table = al.Table_LuSt(header=header,            #header\n",
    "                      rows=row12,               #rows (content of table)\n",
    "                      formatstrings=fstring12,  #formatting of rows\n",
    "                      separators=separators,    #separators to use between columns\n",
    "                      newsections=newsects,     #when to start new sections\n",
    "                      alignments=alignments     #how to align the contents\n",
    "                      )\n",
    "# table.header = header   #use to change/set a header\n",
    "\n",
    "print(table)            #prints out table objects and its attributes\n",
    "table.print_table()     #prints out table including separator\n"
   ]
  },
  {
   "cell_type": "code",
   "execution_count": 24,
   "metadata": {},
   "outputs": [
    {
     "name": "stdout",
     "output_type": "stream",
     "text": [
      " # ||C1        |   C2       C3   |          C4\n",
      "==============================================\n",
      " 1 ||t11       |  246     2.450  |     1.0e+06\n",
      "----------------------------------------------\n",
      " 2 ||t21       |   1      26.450 |     1.2e-03\n",
      "==============================================\n",
      " 3 ||t31       |   4       2.45  |  8.2000e-02\n",
      " 4 ||t41       |   8      82.450 |     1.2e-02\n",
      "----------------------------------------------\n",
      "\n",
      "C1        |   C2       C3   |          C4\n",
      "=========================================\n",
      "t11       |  246     2.450  |     1.0e+06\n",
      "-----------------------------------------\n",
      "t21       |   1      26.450 |     1.2e-03\n",
      "=========================================\n",
      "t31       |   4       2.45  |  8.2000e-02\n",
      "t41       |   8      82.450 |     1.2e-02\n",
      "-----------------------------------------\n"
     ]
    }
   ],
   "source": [
    "#rownumbers\n",
    "table.print_table(save=False,               #option to save the template to a file (enter filename to save)\n",
    "                  writingtype=\"w\",          #option to define \"writing style\"\n",
    "                  print_it=True,            #print table in bash or not\n",
    "                  hide_rownumbers=False     #hide rownumber column or not\n",
    "                  )\n",
    "\n",
    "print(\"\")\n",
    "#no rownumbers\n",
    "table.print_table(save=False,               #option to save the template to a file (enter filename to save)\n",
    "                  writingtype=\"w\",          #option to define \"writing style\"\n",
    "                  print_it=True,            #print table in bash or not\n",
    "                  hide_rownumbers=True      #hide rownumber column or not\n",
    "                  )"
   ]
  },
  {
   "cell_type": "markdown",
   "metadata": {},
   "source": [
    "Add another row with correspoinding formatstring to the table"
   ]
  },
  {
   "cell_type": "code",
   "execution_count": 20,
   "metadata": {},
   "outputs": [
    {
     "name": "stdout",
     "output_type": "stream",
     "text": [
      "\n",
      "Table_LuSt(\n",
      "header = ['C1', 'C2', 'C3', 'C4'],\n",
      "rows = [['t11', 246, 2.45, 1000000.0], ['t21', 1, 26.45, 0.0012], ['t31', 4, 2.45, 0.082]],\n",
      "formatstrings = [['%10s', '%8d', '%8.3f', '%12.1e'], ['%10s', '%8d', '%8.3f', '%12.1e'], ['%10s', '%8d', '%8.2f', '%12.4e']],\n",
      "separators = ['||', '|', ' ', '|'],\n",
      "alignments = ['l', 'c', 'c', 'r']newsections = [False, '-', '='],\n",
      ")\n",
      " # ||C1        |   C2       C3   |          C4\n",
      "==============================================\n",
      " 1 ||t11       |  246     2.450  |     1.0e+06\n",
      "----------------------------------------------\n",
      " 2 ||t21       |   1      26.450 |     1.2e-03\n",
      "==============================================\n",
      " 3 ||t31       |   4       2.45  |  8.2000e-02\n",
      "----------------------------------------------\n"
     ]
    }
   ],
   "source": [
    "row3 = [\"t31\", 4, 2.45, 8.2E-2]                     #row 3\n",
    "fstring3 = [\"%10s\", \"%8d\", \"%8.2f\", \"%12.4e\"]        #formatstring for row3\n",
    "table.add_row(row=row3,           #row to add\n",
    "              fstring=fstring3,   #formatting for added row\n",
    "              new_sect=\"=\"        #wether to start a new section and which separator to use\n",
    "            )\n",
    "print(table)            #prints out table objects and its attributes\n",
    "\n",
    "table.print_table()"
   ]
  },
  {
   "cell_type": "markdown",
   "metadata": {},
   "source": [
    "Add another row without formatstring set.\n",
    "This will set the formatstring automatically to the one of the last current entries."
   ]
  },
  {
   "cell_type": "code",
   "execution_count": 21,
   "metadata": {},
   "outputs": [
    {
     "name": "stdout",
     "output_type": "stream",
     "text": [
      " # ||C1        |   C2       C3   |          C4\n",
      "==============================================\n",
      " 1 ||t11       |  246     2.450  |     1.0e+06\n",
      "----------------------------------------------\n",
      " 2 ||t21       |   1      26.450 |     1.2e-03\n",
      "==============================================\n",
      " 3 ||t31       |   4       2.45  |  8.2000e-02\n",
      " 4 ||t41       |   8      82.450 |     1.2e-02\n",
      "----------------------------------------------\n"
     ]
    }
   ],
   "source": [
    "row4 = [\"t41\", 8, 82.45, 1.2E-2]\n",
    "\n",
    "table.add_row(row4)\n",
    "\n",
    "table.print_table()\n"
   ]
  },
  {
   "cell_type": "markdown",
   "metadata": {},
   "source": [
    "Access only header or only rows of the table"
   ]
  },
  {
   "cell_type": "code",
   "execution_count": 22,
   "metadata": {},
   "outputs": [
    {
     "name": "stdout",
     "output_type": "stream",
     "text": [
      " # ||C1        |   C2       C3   |          C4\n",
      " 1 ||t11       |  246     2.450  |     1.0e+06\n",
      "----------------------------------------------\n",
      " 2 ||t21       |   1      26.450 |     1.2e-03\n",
      "==============================================\n",
      " 3 ||t31       |   4       2.45  |  8.2000e-02\n",
      " 4 ||t41       |   8      82.450 |     1.2e-02\n"
     ]
    }
   ],
   "source": [
    "# table.print_table()\n",
    "all_header = table.print_header(print_it=True,           #print in bash or not\n",
    "                                hide_rownumbers=False    #show or hide rownumber column\n",
    "                                )    #prints out header\n",
    "all_rows = table.print_rows(print_it=True,           #print in bash or not\n",
    "                            hide_rownumbers=False    #show or hide rownumber column\n",
    "                            )      #prints out rows"
   ]
  },
  {
   "cell_type": "markdown",
   "metadata": {},
   "source": [
    "Create a template which can be copied into a .tex file and will produce a table"
   ]
  },
  {
   "cell_type": "code",
   "execution_count": null,
   "metadata": {},
   "outputs": [
    {
     "name": "stdout",
     "output_type": "stream",
     "text": [
      " # ||C1        |   C2       C3   |          C4\n",
      "==============================================\n",
      " 1 ||t11       |  246     2.450  |     1.0e+06\n",
      "----------------------------------------------\n",
      " 2 ||t21       |   1      26.450 |     1.2e-03\n",
      "==============================================\n",
      " 3 ||t31       |   42    1.1e+00 |        5.76\n",
      "----------------------------------------------\n",
      "\\begin{table}[]\n",
      "    \\centering\n",
      "    \\begin{tabular}{c||l|c c|r}\n",
      "        \\hline\\hline\n",
      "        \\#  & C1         &    C2 & C3    &           C4 \\\\ \n",
      "        \\hline\n",
      "         1  & t11        &   246 & 2.450   &      1.0e+06 \\\\ \n",
      "        \\hline\n",
      "         2  & t21        &    1 & 26.450  &      1.2e-03 \\\\ \n",
      "        \\hline\\hline\n",
      "         3  & t31        &    42 & 1.1e+00  &         5.76 \\\\ \n",
      "        \\hline\n",
      "    \\end{tabular}\n",
      "    \\caption{ADD YOUR CAPTION}\n",
      "    \\label{tab:ADD SOME LABEL}\n",
      "\\end{table}\n"
     ]
    }
   ],
   "source": [
    "table.latex_template(save=False,            #option to save the template to a file (enter filename to save)\n",
    "                     writingtype=\"w\",       #option to define \"writing style\"\n",
    "                     print_it=True,         #print table in bash or not\n",
    "                     print_latex=True,      #print latex_template in bash or not\n",
    "                     hide_rownumbers=False  #hide rownumber column or not\n",
    "                     )    #prints latex template of table"
   ]
  },
  {
   "cell_type": "markdown",
   "metadata": {},
   "source": [
    "## plot_ax"
   ]
  },
  {
   "cell_type": "code",
   "execution_count": 4,
   "metadata": {},
   "outputs": [
    {
     "name": "stdout",
     "output_type": "stream",
     "text": [
      "--> Started plot_ax at time 2021-10-24 15:28:28.901259\n",
      "\n",
      "---------------------------------------\n",
      "WARNING: Smoothing the following curve:\n",
      "position: 211, curve number: 1\n",
      "The errors attached to this curve will\n",
      "be deleted for the plotting process!\n",
      "---------------------------------------\n",
      "\n",
      "\n",
      "---------------------------------------\n",
      "WARNING: Smoothing the following curve:\n",
      "position: 224, curve number: 0\n",
      "The errors attached to this curve will\n",
      "be deleted for the plotting process!\n",
      "---------------------------------------\n",
      "\n",
      "\n",
      "---------------------------------------\n",
      "WARNING: Smoothing the following curve:\n",
      "position: 223, curve number: 0\n",
      "The errors attached to this curve will\n",
      "be deleted for the plotting process!\n",
      "---------------------------------------\n",
      "\n",
      "--> Time needed for plot_ax: 0:00:00.188618\n",
      "--> Finished plot_ax at time 2021-10-24 15:28:29.089877\n"
     ]
    },
    {
     "data": {
      "image/png": "[encoded data removed]",
      "text/plain": [
       "<Figure size 360x360 with 3 Axes>"
      ]
     },
     "metadata": {
      "needs_background": "light"
     },
     "output_type": "display_data"
    }
   ],
   "source": [
    "import numpy as np\n",
    "import matplotlib.pyplot as plt\n",
    "\n",
    "xi = np.linspace(0,20,21)\n",
    "\n",
    "#subplot1\n",
    "xvals_sp1 = [xi,xi]\n",
    "yvals_sp1 = [xi,xi**2]\n",
    "colors_sp1 = [\"r\",\"g\"]\n",
    "markers_sp1 = [\".\",\"x\"]\n",
    "markersizes_sp1 = [50,2]\n",
    "labels_sp1 = [\"c1\", \"c2\"]\n",
    "linestyles_sp1 = [\"\",\"-.\"]\n",
    "alphas_sp1 = [0.5,1]\n",
    "smooths_sp1 = [False, True]\n",
    "smoothdegrees_sp1 = [3,3]\n",
    "smoothresolutions_sp1 = [100,4]\n",
    "xerrs_sp1 = [[0.5]*len(xi), [1]*len(xi)]\n",
    "yerrs_sp1 = [[0.5]*len(xi), [1]*len(xi)]\n",
    "capsizes_sp1 = [3,5]\n",
    "errcolors_sp1 = [\"r\",\"g\"]\n",
    "position_sp1 = 211\n",
    "zorders_sp1 = [1,2]\n",
    "invert_yaxis_sp1 = True\n",
    "invert_xaxis_sp1 = False\n",
    "xaxlab_sp1 = \"x1\"\n",
    "yaxlab_sp1 = \"y1\"\n",
    "\n",
    "#subplot2\n",
    "xvals_sp2 = [xi]\n",
    "yvals_sp2 = [xi*3]\n",
    "colors_sp2 = [\"r\"]\n",
    "markers_sp2 = [\",\"]\n",
    "markersizes_sp2 = [12]\n",
    "labels_sp2 = [\"c1\"]\n",
    "linestyles_sp2 = [\"-\"]\n",
    "alphas_sp2 = [1]\n",
    "smooths_sp2 = [True]\n",
    "smoothdegrees_sp2 = [3]\n",
    "smoothresolutions_sp2 = [4]\n",
    "xerrs_sp2 = [[2]*len(xi)]\n",
    "yerrs_sp2 = [[2]*len(xi)]\n",
    "capsizes_sp2 = [3]\n",
    "errcolors_sp2 = [\"b\"]\n",
    "position_sp2 = 224\n",
    "zorders_sp2 = [1]\n",
    "invert_yaxis_sp2 = False\n",
    "invert_xaxis_sp2 = True\n",
    "xaxlab_sp2 = \"x2\"\n",
    "yaxlab_sp2 = \"y2\"\n",
    "\n",
    "#subplot3\n",
    "xvals_sp3 = [xi]\n",
    "yvals_sp3 = [xi]\n",
    "colors_sp3 = [\"k\"]\n",
    "markers_sp3 = [\"^\"]\n",
    "markersizes_sp3 = [8]\n",
    "labels_sp3 = [\"c2\"]\n",
    "linestyles_sp3 = [\":\"]\n",
    "alphas_sp3 = [1]\n",
    "smooths_sp3 = [True]\n",
    "smoothdegrees_sp3 = [2]\n",
    "smoothresolutions_sp3 = [300]\n",
    "xerrs_sp3 = [None]\n",
    "yerrs_sp3 = [None]\n",
    "capsizes_sp3 = [None]\n",
    "errcolors_sp3 = [\"c\"]\n",
    "position_sp3 = 223\n",
    "zorders_sp3 = [1]\n",
    "invert_yaxis_sp3 = False\n",
    "invert_xaxis_sp3 = False\n",
    "xaxlab_sp3 = \"y3\"\n",
    "yaxlab_sp3 = \"x3\"\n",
    "\n",
    "#define variables for each subplot/graph\n",
    "xvals = [xvals_sp1, xvals_sp2, xvals_sp3]\n",
    "yvals = [yvals_sp1, yvals_sp2, yvals_sp3]\n",
    "colors= [colors_sp1, colors_sp2, colors_sp3]\n",
    "markers = [markers_sp1, markers_sp2, markers_sp3]\n",
    "markersizes = [markersizes_sp1, markersizes_sp2, markersizes_sp3]\n",
    "labels = [labels_sp1, labels_sp2, labels_sp3] \n",
    "linestyles = [linestyles_sp1, linestyles_sp2, linestyles_sp3] \n",
    "alphas = [alphas_sp1, alphas_sp2, alphas_sp3] \n",
    "smooths = [smooths_sp1, smooths_sp2, smooths_sp3] \n",
    "smoothdegrees = [smoothdegrees_sp1, smoothdegrees_sp2, smoothdegrees_sp3] \n",
    "smoothresolutions = [smoothresolutions_sp1, smoothresolutions_sp2, smoothresolutions_sp3] \n",
    "xerrs = [xerrs_sp1, xerrs_sp2, xerrs_sp3] \n",
    "yerrs = [yerrs_sp1, yerrs_sp2, yerrs_sp3] \n",
    "capsizes = [capsizes_sp1, capsizes_sp2, capsizes_sp3] \n",
    "errcolors = [errcolors_sp1, errcolors_sp2, errcolors_sp3] \n",
    "positions = [position_sp1, position_sp2, position_sp3]\n",
    "zorders = [zorders_sp1, zorders_sp2, zorders_sp3] \n",
    "invert_xaxis = [invert_xaxis_sp1, invert_xaxis_sp2, invert_xaxis_sp3]\n",
    "invert_yaxis = [invert_yaxis_sp1, invert_yaxis_sp2, invert_yaxis_sp3]\n",
    "xaxlabs = [xaxlab_sp1, xaxlab_sp2, xaxlab_sp3] \n",
    "yaxlabs = [yaxlab_sp1, yaxlab_sp2, yaxlab_sp3] \n",
    "\n",
    "suptitle=\"Testtitle\"\n",
    "num = \"Testplot\"\n",
    "\n",
    "axlegend = False\n",
    "figlegend = True\n",
    "figsize = (5,5)\n",
    "fontsize = 16\n",
    "\n",
    "fig, axs = al.Plot_LuSt.plot_ax(xvals=xvals, yvals=yvals,\n",
    "                                colors=colors, markers=markers, markersizes=markersizes, labels=labels, linestyles=linestyles, alphas=alphas,\n",
    "                                smooths=smooths, smoothdegrees=smoothdegrees, smoothresolutions=smoothresolutions,\n",
    "                                xerrs=xerrs, yerrs=yerrs, capsizes=capsizes, errcolors=errcolors,\n",
    "                                positions=positions, zorders=zorders,\n",
    "                                invert_yaxis=invert_yaxis, invert_xaxis=invert_xaxis,\n",
    "                                xlabs=xaxlabs, ylabs=yaxlabs, suptitle=suptitle, num=num,\n",
    "                                axlegend=axlegend, figlegend=figlegend, figsize=figsize, fontsize=fontsize,\n",
    "                                timeit=True, verbose=True)\n",
    "\n",
    "\n",
    "#use to share axis\n",
    "axs[1].get_shared_y_axes().join(axs[1],axs[2])\n",
    "axs[1].set_yticklabels([])\n",
    "plt.tight_layout()\n",
    "plt.show()\n"
   ]
  },
  {
   "cell_type": "markdown",
   "metadata": {},
   "source": [
    "## hexcolor_extract"
   ]
  },
  {
   "cell_type": "code",
   "execution_count": 1,
   "metadata": {},
   "outputs": [
    {
     "name": "stdout",
     "output_type": "stream",
     "text": [
      "--> Started hexcolor_extract at time 2021-10-24 15:34:04.633035\n"
     ]
    },
    {
     "data": {
      "image/png": "[encoded data removed]",
      "text/plain": [
       "<Figure size 432x288 with 1 Axes>"
      ]
     },
     "metadata": {
      "needs_background": "light"
     },
     "output_type": "display_data"
    },
    {
     "name": "stdout",
     "output_type": "stream",
     "text": [
      "--> Time needed for hexcolor_extract: 0:00:00.601395\n",
      "--> Finished hexcolor_extract at time 2021-10-24 15:34:05.234430\n"
     ]
    }
   ],
   "source": [
    "colors = al.Plot_LuSt.hexcolor_extract(testplot=True, timeit=True)"
   ]
  },
  {
   "cell_type": "markdown",
   "metadata": {},
   "source": [
    "## color_generator"
   ]
  },
  {
   "cell_type": "code",
   "execution_count": 3,
   "metadata": {},
   "outputs": [
    {
     "ename": "NotImplementedError",
     "evalue": "Not implemented yet",
     "output_type": "error",
     "traceback": [
      "\u001b[1;31m---------------------------------------------------------------------------\u001b[0m",
      "\u001b[1;31mNotImplementedError\u001b[0m                       Traceback (most recent call last)",
      "\u001b[1;32m<ipython-input-3-477e6a66670b>\u001b[0m in \u001b[0;36m<module>\u001b[1;34m\u001b[0m\n\u001b[0;32m      1\u001b[0m \u001b[0mncolors\u001b[0m \u001b[1;33m=\u001b[0m \u001b[1;36m100\u001b[0m\u001b[1;33m\u001b[0m\u001b[1;33m\u001b[0m\u001b[0m\n\u001b[1;32m----> 2\u001b[1;33m \u001b[0mcolors\u001b[0m \u001b[1;33m=\u001b[0m \u001b[0mal\u001b[0m\u001b[1;33m.\u001b[0m\u001b[0mPlot_LuSt\u001b[0m\u001b[1;33m.\u001b[0m\u001b[0mcolor_generator\u001b[0m\u001b[1;33m(\u001b[0m\u001b[0mncolors\u001b[0m\u001b[1;33m,\u001b[0m \u001b[0mtestplot\u001b[0m\u001b[1;33m=\u001b[0m\u001b[1;32mTrue\u001b[0m\u001b[1;33m,\u001b[0m \u001b[0mtimeit\u001b[0m\u001b[1;33m=\u001b[0m\u001b[1;32mTrue\u001b[0m\u001b[1;33m)\u001b[0m\u001b[1;33m\u001b[0m\u001b[1;33m\u001b[0m\u001b[0m\n\u001b[0m",
      "\u001b[1;32mc:\\Users\\lukas\\Desktop\\GitHub\\astroLuSt\\module_parts\\plotting_astroLuSt.py\u001b[0m in \u001b[0;36mcolor_generator\u001b[1;34m(ncolors, testplot, timeit)\u001b[0m\n\u001b[0;32m    575\u001b[0m \u001b[1;33m\u001b[0m\u001b[0m\n\u001b[0;32m    576\u001b[0m         \"\"\"\n\u001b[1;32m--> 577\u001b[1;33m         \u001b[1;32mraise\u001b[0m \u001b[0mNotImplementedError\u001b[0m\u001b[1;33m(\u001b[0m\u001b[1;34m\"Not implemented yet\"\u001b[0m\u001b[1;33m)\u001b[0m\u001b[1;33m\u001b[0m\u001b[1;33m\u001b[0m\u001b[0m\n\u001b[0m\u001b[0;32m    578\u001b[0m \u001b[1;33m\u001b[0m\u001b[0m\n\u001b[0;32m    579\u001b[0m         \u001b[1;32mimport\u001b[0m \u001b[0mnumpy\u001b[0m \u001b[1;32mas\u001b[0m \u001b[0mnp\u001b[0m\u001b[1;33m\u001b[0m\u001b[1;33m\u001b[0m\u001b[0m\n",
      "\u001b[1;31mNotImplementedError\u001b[0m: Not implemented yet"
     ]
    }
   ],
   "source": [
    "ncolors = 100\n",
    "colors = al.Plot_LuSt.color_generator(ncolors, testplot=True, timeit=True)"
   ]
  }
 ],
 "metadata": {
  "interpreter": {
   "hash": "bf4b7df5a394136200a5b9dec78c1e8fa5db673e7f657aa81339d4fdec081541"
  },
  "kernelspec": {
   "display_name": "Python 3.8.8 64-bit ('base': conda)",
   "name": "python3"
  },
  "language_info": {
   "codemirror_mode": {
    "name": "ipython",
    "version": 3
   },
   "file_extension": ".py",
   "mimetype": "text/x-python",
   "name": "python",
   "nbconvert_exporter": "python",
   "pygments_lexer": "ipython3",
   "version": "3.8.8"
  },
  "orig_nbformat": 4
 },
 "nbformat": 4,
 "nbformat_minor": 2
}
