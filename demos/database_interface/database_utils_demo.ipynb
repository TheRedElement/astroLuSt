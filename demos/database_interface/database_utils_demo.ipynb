{
 "cells": [
  {
   "cell_type": "code",
   "execution_count": 1,
   "metadata": {},
   "outputs": [
    {
     "name": "stderr",
     "output_type": "stream",
     "text": [
      "2024-11-05 19:51:40.430730: I tensorflow/core/platform/cpu_feature_guard.cc:182] This TensorFlow binary is optimized to use available CPU instructions in performance-critical operations.\n",
      "To enable the following instructions: AVX2 FMA, in other operations, rebuild TensorFlow with the appropriate compiler flags.\n"
     ]
    }
   ],
   "source": [
    "from astroquery.utils.tap.core import TapPlus\n",
    "import importlib\n",
    "import matplotlib.pyplot as plt\n",
    "import pandas as pd\n",
    "import sys\n",
    "sys.path.append('../../')\n",
    "\n",
    "from astroLuSt.database_interface import database_utils as aldidu\n",
    "\n",
    "importlib.reload(aldidu)\n",
    "\n",
    "#style for plotting\n",
    "plt.style.use('astroLuSt.styles.LuSt_style')\n",
    "\n"
   ]
  },
  {
   "cell_type": "markdown",
   "metadata": {},
   "source": [
    "# `query_upload_table()`"
   ]
  },
  {
   "cell_type": "code",
   "execution_count": 2,
   "metadata": {},
   "outputs": [
    {
     "name": "stdout",
     "output_type": "stream",
     "text": [
      "Created TAP+ (v20200428.1) - Connection:\n",
      "\tHost: tapvizier.cds.unistra.fr\n",
      "\tUse HTTPS: False\n",
      "\tPort: 80\n",
      "\tSSL Port: 443\n"
     ]
    },
    {
     "name": "stderr",
     "output_type": "stream",
     "text": [
      "/home/lukas/venvs/astroLuSt/lib/python3.10/site-packages/numpy/core/fromnumeric.py:59: FutureWarning: 'DataFrame.swapaxes' is deprecated and will be removed in a future version. Please use 'DataFrame.transpose' instead.\n",
      "  return bound(*args, **kwds)\n",
      "[Parallel(n_jobs=3)]: Using backend LokyBackend with 3 concurrent workers.\n",
      "2024-11-05 19:51:44.218725: I tensorflow/core/platform/cpu_feature_guard.cc:182] This TensorFlow binary is optimized to use available CPU instructions in performance-critical operations.\n",
      "To enable the following instructions: AVX2 FMA, in other operations, rebuild TensorFlow with the appropriate compiler flags.\n",
      "2024-11-05 19:51:44.280419: I tensorflow/core/platform/cpu_feature_guard.cc:182] This TensorFlow binary is optimized to use available CPU instructions in performance-critical operations.\n",
      "To enable the following instructions: AVX2 FMA, in other operations, rebuild TensorFlow with the appropriate compiler flags.\n",
      "2024-11-05 19:51:44.280423: I tensorflow/core/platform/cpu_feature_guard.cc:182] This TensorFlow binary is optimized to use available CPU instructions in performance-critical operations.\n",
      "To enable the following instructions: AVX2 FMA, in other operations, rebuild TensorFlow with the appropriate compiler flags.\n"
     ]
    },
    {
     "name": "stdout",
     "output_type": "stream",
     "text": [
      "INFO(query_upload_table): Extracting split 2/3 (len(split): 6)\n",
      "INFO(query_upload_table): Extracting split 1/3 (len(split): 6)\n",
      "INFO(query_upload_table): Extracting split 3/3 (len(split): 6)\n",
      "    WARNING(query_upload_table): HTTPError when extracting split #2/3, hence ignoring. Error 500: Impossible to create the uploaded table: TAP_UPLOAD.upload_table_1730832706277!\n"
     ]
    },
    {
     "name": "stderr",
     "output_type": "stream",
     "text": [
      "[Parallel(n_jobs=3)]: Done   3 out of   3 | elapsed:    9.0s finished\n"
     ]
    },
    {
     "data": {
      "text/html": [
       "<div>\n",
       "<style scoped>\n",
       "    .dataframe tbody tr th:only-of-type {\n",
       "        vertical-align: middle;\n",
       "    }\n",
       "\n",
       "    .dataframe tbody tr th {\n",
       "        vertical-align: top;\n",
       "    }\n",
       "\n",
       "    .dataframe thead th {\n",
       "        text-align: right;\n",
       "    }\n",
       "</style>\n",
       "<table border=\"1\" class=\"dataframe\">\n",
       "  <thead>\n",
       "    <tr style=\"text-align: right;\">\n",
       "      <th></th>\n",
       "      <th>id</th>\n",
       "      <th>Source</th>\n",
       "    </tr>\n",
       "  </thead>\n",
       "  <tbody>\n",
       "    <tr>\n",
       "      <th>0</th>\n",
       "      <td>4295806720</td>\n",
       "      <td>4295806720</td>\n",
       "    </tr>\n",
       "    <tr>\n",
       "      <th>1</th>\n",
       "      <td>38655544960</td>\n",
       "      <td>38655544960</td>\n",
       "    </tr>\n",
       "    <tr>\n",
       "      <th>2</th>\n",
       "      <td>343597448960</td>\n",
       "      <td>343597448960</td>\n",
       "    </tr>\n",
       "    <tr>\n",
       "      <th>3</th>\n",
       "      <td>549755818112</td>\n",
       "      <td>549755818112</td>\n",
       "    </tr>\n",
       "    <tr>\n",
       "      <th>4</th>\n",
       "      <td>828929527040</td>\n",
       "      <td>828929527040</td>\n",
       "    </tr>\n",
       "    <tr>\n",
       "      <th>5</th>\n",
       "      <td>1275606125952</td>\n",
       "      <td>1275606125952</td>\n",
       "    </tr>\n",
       "    <tr>\n",
       "      <th>0</th>\n",
       "      <td>2851858288640</td>\n",
       "      <td>2851858288640</td>\n",
       "    </tr>\n",
       "    <tr>\n",
       "      <th>1</th>\n",
       "      <td>2920577765120</td>\n",
       "      <td>2920577765120</td>\n",
       "    </tr>\n",
       "    <tr>\n",
       "      <th>2</th>\n",
       "      <td>2989297243776</td>\n",
       "      <td>2989297243776</td>\n",
       "    </tr>\n",
       "    <tr>\n",
       "      <th>3</th>\n",
       "      <td>3062312520192</td>\n",
       "      <td>3062312520192</td>\n",
       "    </tr>\n",
       "    <tr>\n",
       "      <th>4</th>\n",
       "      <td>3332894779520</td>\n",
       "      <td>3332894779520</td>\n",
       "    </tr>\n",
       "    <tr>\n",
       "      <th>5</th>\n",
       "      <td>3371550165888</td>\n",
       "      <td>3371550165888</td>\n",
       "    </tr>\n",
       "  </tbody>\n",
       "</table>\n",
       "</div>"
      ],
      "text/plain": [
       "              id         Source\n",
       "0     4295806720     4295806720\n",
       "1    38655544960    38655544960\n",
       "2   343597448960   343597448960\n",
       "3   549755818112   549755818112\n",
       "4   828929527040   828929527040\n",
       "5  1275606125952  1275606125952\n",
       "0  2851858288640  2851858288640\n",
       "1  2920577765120  2920577765120\n",
       "2  2989297243776  2989297243776\n",
       "3  3062312520192  3062312520192\n",
       "4  3332894779520  3332894779520\n",
       "5  3371550165888  3371550165888"
      ]
     },
     "execution_count": 2,
     "metadata": {},
     "output_type": "execute_result"
    }
   ],
   "source": [
    "importlib.reload(aldidu)\n",
    "\n",
    "df = pd.DataFrame(data={\n",
    "    'id':[\n",
    "        4295806720, 38655544960, 343597448960,\n",
    "        549755818112, 828929527040, 1275606125952,\n",
    "        1340029955712, 1374389600384, 1619203481984,\n",
    "        1653563247744, 2199023259904, 2546916445184,\n",
    "        2851858288640, 2920577765120, 2989297243776,\n",
    "        3062312520192, 3332894779520, 3371550165888,\n",
    "    ]\n",
    "}, dtype=int)\n",
    "query = f\"\"\"\n",
    "    SELECT ut.*, sh.Source\n",
    "    FROM tap_upload.upload_table AS ut INNER JOIN\n",
    "        \"I/354/starhorse2021\" AS sh\n",
    "            ON ut.id = sh.Source\n",
    "\"\"\"\n",
    "\n",
    "\n",
    "tap = TapPlus(\n",
    "    url='http://tapvizier.cds.unistra.fr/TAPVizieR/tap',\n",
    "    tap_context=None,\n",
    "    verbose=True,\n",
    ")\n",
    "\n",
    "df_res = aldidu.query_upload_table(\n",
    "    tap=tap, query=query,\n",
    "    df_upload=df,\n",
    "    upload_table_name='upload_table',\n",
    "    query_async=False,  #no asynchronous query needed, as table is small\n",
    "    nsplits=3,\n",
    "    verbose=2,\n",
    "    parallel_kwargs=dict(n_jobs=3, verbose=3),\n",
    "    launch_job_kwargs=dict(verbose=False),\n",
    ")\n",
    "\n",
    "df_res"
   ]
  }
 ],
 "metadata": {
  "kernelspec": {
   "display_name": "astroLuSt",
   "language": "python",
   "name": "python3"
  },
  "language_info": {
   "codemirror_mode": {
    "name": "ipython",
    "version": 3
   },
   "file_extension": ".py",
   "mimetype": "text/x-python",
   "name": "python",
   "nbconvert_exporter": "python",
   "pygments_lexer": "ipython3",
   "version": "3.10.12"
  }
 },
 "nbformat": 4,
 "nbformat_minor": 2
}
