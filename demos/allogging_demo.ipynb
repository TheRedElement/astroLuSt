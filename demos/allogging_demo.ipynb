{
 "cells": [
  {
   "cell_type": "code",
   "execution_count": 1,
   "metadata": {},
   "outputs": [
    {
     "data": {
      "text/plain": [
       "<module 'astroLuSt.allogging' from '/home/lukas/github/astroLuSt/demos/../astroLuSt/allogging.py'>"
      ]
     },
     "execution_count": 1,
     "metadata": {},
     "output_type": "execute_result"
    }
   ],
   "source": [
    "import importlib\n",
    "from joblib import Parallel, delayed\n",
    "import logging\n",
    "import sys\n",
    "sys.path.append(\"../\")\n",
    "\n",
    "from astroLuSt import allogging\n",
    "importlib.reload(allogging)"
   ]
  },
  {
   "cell_type": "markdown",
   "metadata": {},
   "source": [
    "# Default Configuration for Logger"
   ]
  },
  {
   "cell_type": "code",
   "execution_count": 2,
   "metadata": {},
   "outputs": [
    {
     "name": "stderr",
     "output_type": "stream",
     "text": [
      "DEBUG   : 2025-03-12 11:53:58,046, root [MainProcess ]: DEBUG message (some context)\n",
      "INFO    : 2025-03-12 11:53:58,048, root [MainProcess ]: INFO message ()\n",
      "WARNING : 2025-03-12 11:53:58,049, root [MainProcess ]: WARNING message ()\n",
      "ERROR   : 2025-03-12 11:53:58,050, root [MainProcess ]: ERROR message ()\n",
      "CRITICAL: 2025-03-12 11:53:58,050, root [MainProcess ]: CRITICAL message ()\n"
     ]
    },
    {
     "name": "stdout",
     "output_type": "stream",
     "text": [
      "<RootLogger root (DEBUG)>\n"
     ]
    }
   ],
   "source": [
    "#%%sequential\n",
    "allogging.setup_logger(level=logging.DEBUG)\n",
    "\n",
    "logger = logging.getLogger()\n",
    "print(logger)\n",
    "\n",
    "logger.log(logging.DEBUG, \"DEBUG message\", extra=dict(context=\"some context\"))\n",
    "logger.log(logging.INFO, \"INFO message\")\n",
    "logger.log(logging.WARNING, \"WARNING message\")\n",
    "logger.log(logging.ERROR, \"ERROR message\")\n",
    "logger.log(logging.CRITICAL, \"CRITICAL message\")"
   ]
  },
  {
   "cell_type": "code",
   "execution_count": 3,
   "metadata": {},
   "outputs": [
    {
     "name": "stderr",
     "output_type": "stream",
     "text": [
      "INFO    : 2025-03-12 11:53:58,694, root [LokyProcess-]: INFO message i=0 ()\n",
      "WARNING : 2025-03-12 11:53:58,694, root [LokyProcess-]: WARNING message i=0 ()\n",
      "ERROR   : 2025-03-12 11:53:58,694, root [LokyProcess-]: ERROR message i=0 ()\n",
      "CRITICAL: 2025-03-12 11:53:58,694, root [LokyProcess-]: CRITICAL message i=0 ()\n",
      "INFO    : 2025-03-12 11:53:58,707, root [LokyProcess-]: INFO message i=1 ()\n",
      "WARNING : 2025-03-12 11:53:58,708, root [LokyProcess-]: WARNING message i=1 ()\n",
      "ERROR   : 2025-03-12 11:53:58,708, root [LokyProcess-]: ERROR message i=1 ()\n",
      "CRITICAL: 2025-03-12 11:53:58,708, root [LokyProcess-]: CRITICAL message i=1 ()\n",
      "INFO    : 2025-03-12 11:53:58,708, root [LokyProcess-]: INFO message i=2 ()\n",
      "WARNING : 2025-03-12 11:53:58,708, root [LokyProcess-]: WARNING message i=2 ()\n",
      "ERROR   : 2025-03-12 11:53:58,708, root [LokyProcess-]: ERROR message i=2 ()\n",
      "CRITICAL: 2025-03-12 11:53:58,708, root [LokyProcess-]: CRITICAL message i=2 ()\n",
      "INFO    : 2025-03-12 11:53:58,709, root [LokyProcess-]: INFO message i=3 ()\n",
      "WARNING : 2025-03-12 11:53:58,709, root [LokyProcess-]: WARNING message i=3 ()\n",
      "ERROR   : 2025-03-12 11:53:58,709, root [LokyProcess-]: ERROR message i=3 ()\n",
      "CRITICAL: 2025-03-12 11:53:58,709, root [LokyProcess-]: CRITICAL message i=3 ()\n",
      "INFO    : 2025-03-12 11:53:58,709, root [LokyProcess-]: INFO message i=4 ()\n",
      "WARNING : 2025-03-12 11:53:58,709, root [LokyProcess-]: WARNING message i=4 ()\n",
      "ERROR   : 2025-03-12 11:53:58,710, root [LokyProcess-]: ERROR message i=4 ()\n",
      "CRITICAL: 2025-03-12 11:53:58,710, root [LokyProcess-]: CRITICAL message i=4 ()\n",
      "INFO    : 2025-03-12 11:53:58,710, root [LokyProcess-]: INFO message i=5 ()\n",
      "WARNING : 2025-03-12 11:53:58,710, root [LokyProcess-]: WARNING message i=5 ()\n",
      "ERROR   : 2025-03-12 11:53:58,710, root [LokyProcess-]: ERROR message i=5 ()\n",
      "CRITICAL: 2025-03-12 11:53:58,710, root [LokyProcess-]: CRITICAL message i=5 ()\n",
      "INFO    : 2025-03-12 11:53:58,711, root [LokyProcess-]: INFO message i=6 ()\n",
      "WARNING : 2025-03-12 11:53:58,711, root [LokyProcess-]: WARNING message i=6 ()\n",
      "ERROR   : 2025-03-12 11:53:58,711, root [LokyProcess-]: ERROR message i=6 ()\n",
      "CRITICAL: 2025-03-12 11:53:58,711, root [LokyProcess-]: CRITICAL message i=6 ()\n",
      "INFO    : 2025-03-12 11:53:58,712, root [LokyProcess-]: INFO message i=7 ()\n",
      "WARNING : 2025-03-12 11:53:58,712, root [LokyProcess-]: WARNING message i=7 ()\n",
      "ERROR   : 2025-03-12 11:53:58,712, root [LokyProcess-]: ERROR message i=7 ()\n",
      "CRITICAL: 2025-03-12 11:53:58,712, root [LokyProcess-]: CRITICAL message i=7 ()\n",
      "INFO    : 2025-03-12 11:53:58,712, root [LokyProcess-]: INFO message i=8 ()\n",
      "WARNING : 2025-03-12 11:53:58,712, root [LokyProcess-]: WARNING message i=8 ()\n",
      "ERROR   : 2025-03-12 11:53:58,712, root [LokyProcess-]: ERROR message i=8 ()\n",
      "CRITICAL: 2025-03-12 11:53:58,712, root [LokyProcess-]: CRITICAL message i=8 ()\n",
      "INFO    : 2025-03-12 11:53:58,713, root [LokyProcess-]: INFO message i=9 ()\n",
      "WARNING : 2025-03-12 11:53:58,713, root [LokyProcess-]: WARNING message i=9 ()\n",
      "ERROR   : 2025-03-12 11:53:58,713, root [LokyProcess-]: ERROR message i=9 ()\n",
      "CRITICAL: 2025-03-12 11:53:58,713, root [LokyProcess-]: CRITICAL message i=9 ()\n"
     ]
    }
   ],
   "source": [
    "#%%parallel\n",
    "#TODO: no possiblity to gloablly configure\n",
    "def subprocess(i):\n",
    "    allogging.setup_logger()\n",
    "\n",
    "    logger.log(logging.DEBUG, f\"DEBUG message {i=}\", extra=dict(context=\"some context\"))\n",
    "    logger.log(logging.INFO, f\"INFO message {i=}\")\n",
    "    logger.log(logging.WARNING, f\"WARNING message {i=}\")\n",
    "    logger.log(logging.ERROR, f\"ERROR message {i=}\")\n",
    "    logger.log(logging.CRITICAL, f\"CRITICAL message {i=}\")\n",
    "\n",
    "    return\n",
    "\n",
    "\n",
    "allogging.setup_logger(level=logging.WARNING)\n",
    "\n",
    "_ = Parallel(n_jobs=3)(\n",
    "    delayed(subprocess)(\n",
    "        i\n",
    "    ) for i in range(10)\n",
    ")\n"
   ]
  },
  {
   "cell_type": "code",
   "execution_count": null,
   "metadata": {},
   "outputs": [],
   "source": []
  }
 ],
 "metadata": {
  "kernelspec": {
   "display_name": "astroLuSt",
   "language": "python",
   "name": "python3"
  },
  "language_info": {
   "codemirror_mode": {
    "name": "ipython",
    "version": 3
   },
   "file_extension": ".py",
   "mimetype": "text/x-python",
   "name": "python",
   "nbconvert_exporter": "python",
   "pygments_lexer": "ipython3",
   "version": "3.10.12"
  }
 },
 "nbformat": 4,
 "nbformat_minor": 2
}
