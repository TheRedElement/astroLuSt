{
 "cells": [
  {
   "cell_type": "code",
   "execution_count": null,
   "metadata": {},
   "outputs": [],
   "source": [
    "import numpy as np\n",
    "import pandas as pd\n",
    "import matplotlib.pyplot as plt\n",
    "import sys\n",
    "sys.path.append('..')\n",
    "\n",
    "from astroLuSt.database_interface import alerceinterface\n",
    "from astroLuSt.database_interface import eleanorinterface\n",
    "from astroLuSt.database_interface import gaiainterface\n",
    "from astroLuSt.database_interface import lightkurveinterface\n",
    "from astroLuSt.database_interface import simbadinterface\n",
    "\n",
    "import importlib\n",
    "importlib.reload(alerceinterface)\n",
    "importlib.reload(eleanorinterface)\n",
    "importlib.reload(gaiainterface)\n",
    "importlib.reload(lightkurveinterface)\n",
    "importlib.reload(simbadinterface)\n",
    "\n",
    "#style for plotting\n",
    "plt.style.use('astroLuSt.styles.LuSt_style')"
   ]
  },
  {
   "cell_type": "code",
   "execution_count": null,
   "metadata": {},
   "outputs": [],
   "source": [
    "targets = [\n",
    "    \"KIC 5006817\", \"RR Lyr\", \"TV Boo\"\n",
    "]"
   ]
  },
  {
   "attachments": {},
   "cell_type": "markdown",
   "metadata": {},
   "source": [
    "# SimbadDatabaseInterface"
   ]
  },
  {
   "cell_type": "code",
   "execution_count": null,
   "metadata": {},
   "outputs": [],
   "source": [
    "SDI = simbadinterface.SimbadDatabaseInterface()\n",
    "ids = SDI.get_ids(\n",
    "    targets\n",
    ")\n",
    "tics = SDI.df_ids[\"TIC\"]\n",
    "print(tics)"
   ]
  },
  {
   "attachments": {},
   "cell_type": "markdown",
   "metadata": {},
   "source": [
    "# EleanorDatabaseInterface"
   ]
  },
  {
   "cell_type": "code",
   "execution_count": 54,
   "metadata": {},
   "outputs": [
    {
     "name": "stdout",
     "output_type": "stream",
     "text": [
      "INFO: Extracting 1 chuncks with shapes [(3,)]\n",
      "INFO: Working on chunk 1/1 with size 3\n",
      "\n",
      "Extracting tic122447138 (chunk 1/1, 1/3 = 1/3 Total)\n",
      "WARNING: ./data/tic122447138.csv already exists in ./data/. Ignoring target because \"redownload\" == False \n",
      "\n",
      "Extracting tic159717514 (chunk 1/1, 2/3 = 2/3 Total)\n",
      "WARNING: ./data/tic159717514.csv already exists in ./data/. Ignoring target because \"redownload\" == False \n",
      "\n",
      "Extracting tic168709463 (chunk 1/1, 3/3 = 3/3 Total)\n",
      "WARNING: ./data/tic168709463.csv already exists in ./data/. Ignoring target because \"redownload\" == False \n",
      "\n",
      "Extraction summary:\n",
      "         TIC  sucess                             original error message\n",
      "0  122447138   False  WARNING: ./data/tic122447138.csv already exist...\n",
      "1  159717514   False  WARNING: ./data/tic159717514.csv already exist...\n",
      "2  168709463   False  WARNING: ./data/tic168709463.csv already exist...\n"
     ]
    },
    {
     "name": "stderr",
     "output_type": "stream",
     "text": [
      "[Parallel(n_jobs=1)]: Using backend SequentialBackend with 1 concurrent workers.\n",
      "[Parallel(n_jobs=1)]: Done   1 out of   1 | elapsed:    0.0s remaining:    0.0s\n",
      "[Parallel(n_jobs=1)]: Done   3 out of   3 | elapsed:    0.0s finished\n"
     ]
    },
    {
     "data": {
      "text/html": [
       "<div>\n",
       "<style scoped>\n",
       "    .dataframe tbody tr th:only-of-type {\n",
       "        vertical-align: middle;\n",
       "    }\n",
       "\n",
       "    .dataframe tbody tr th {\n",
       "        vertical-align: top;\n",
       "    }\n",
       "\n",
       "    .dataframe thead th {\n",
       "        text-align: right;\n",
       "    }\n",
       "</style>\n",
       "<table border=\"1\" class=\"dataframe\">\n",
       "  <thead>\n",
       "    <tr style=\"text-align: right;\">\n",
       "      <th></th>\n",
       "      <th>TIC</th>\n",
       "      <th>sucess</th>\n",
       "      <th>original error message</th>\n",
       "    </tr>\n",
       "  </thead>\n",
       "  <tbody>\n",
       "    <tr>\n",
       "      <th>0</th>\n",
       "      <td>122447138</td>\n",
       "      <td>False</td>\n",
       "      <td>WARNING: ./data/tic122447138.csv already exist...</td>\n",
       "    </tr>\n",
       "    <tr>\n",
       "      <th>1</th>\n",
       "      <td>159717514</td>\n",
       "      <td>False</td>\n",
       "      <td>WARNING: ./data/tic159717514.csv already exist...</td>\n",
       "    </tr>\n",
       "    <tr>\n",
       "      <th>2</th>\n",
       "      <td>168709463</td>\n",
       "      <td>False</td>\n",
       "      <td>WARNING: ./data/tic168709463.csv already exist...</td>\n",
       "    </tr>\n",
       "  </tbody>\n",
       "</table>\n",
       "</div>"
      ],
      "text/plain": [
       "         TIC  sucess                             original error message\n",
       "0  122447138   False  WARNING: ./data/tic122447138.csv already exist...\n",
       "1  159717514   False  WARNING: ./data/tic159717514.csv already exist...\n",
       "2  168709463   False  WARNING: ./data/tic168709463.csv already exist..."
      ]
     },
     "execution_count": 54,
     "metadata": {},
     "output_type": "execute_result"
    }
   ],
   "source": [
    "importlib.reload(eleanorinterface)\n",
    "\n",
    "EDI = eleanorinterface.EleanorDatabaseInterface(\n",
    "    tics=tics[:], sectors=\"all\",\n",
    "    aperture_mode='large',\n",
    "    )\n",
    "\n",
    "EDI.data_from_eleanor_alltics(\n",
    "    save=\"./data/\",\n",
    "    # save=True,\n",
    "    redownload=False,\n",
    "    plot_result=True, save_plot=False,\n",
    "    sleep=0,\n",
    "    n_jobs=1, n_chunks=1,\n",
    ")\n"
   ]
  },
  {
   "attachments": {},
   "cell_type": "markdown",
   "metadata": {},
   "source": [
    "# GaiaDatabaseInterface"
   ]
  },
  {
   "cell_type": "code",
   "execution_count": null,
   "metadata": {},
   "outputs": [],
   "source": [
    "GID = gaiainterface.GaiaDatabaseInterface()\n",
    "GID.gaia_crendetials = \"../credentials_gaia.txt\"\n",
    "\n",
    "filter = \"(jobs['phase'] == 'ERROR')\"\n",
    "GID.remove_all_jobs(pd_filter=filter, login_before=False, logout_after=False)\n"
   ]
  },
  {
   "attachments": {},
   "cell_type": "markdown",
   "metadata": {},
   "source": [
    "# AlerceDatabaseInterface"
   ]
  },
  {
   "cell_type": "code",
   "execution_count": null,
   "metadata": {},
   "outputs": [],
   "source": [
    "\n",
    "ADI = alerceinterface.AlerceDatabaseInterface()\n",
    "\n",
    "df = pd.DataFrame(\n",
    "    data=np.array([\n",
    "        [10054,\t12.39495833, 27.02213889,],\n",
    "        [10088,\t353.7751667, np.inf,],#41.10291667,],\n",
    "        [10140,\t16.294625,\t 34.21841667,],\n",
    "        [10147,\t359.6756667, 41.48880556,],\n",
    "    ]),\n",
    "    columns=['id', 'ra', 'dec']\n",
    ")\n",
    "\n",
    "df_ztf = ADI.crossmerge_by_coordinates(\n",
    "    df_left=df,\n",
    "    ra_colname='ra', dec_colname='dec', radius=10,\n",
    "    sleep=2E-3,\n",
    "    n_jobs=1, verbose=2\n",
    ")\n",
    "\n",
    "print(ADI.df_error_msgs_crossmerge)\n",
    "\n",
    "ADI.download_lightcurves(\n",
    "    df_ztf['oid_ztf'],\n",
    "    save=False,\n",
    "    # save=alerce_extraction_dir,\n",
    "    plot_result=True, save_plot=False, close_plots=False,\n",
    "    sleep=2E-3,\n",
    "    n_jobs=1, verbose=2\n",
    ")\n",
    "print(ADI.df_error_msgs_lcdownload)"
   ]
  },
  {
   "attachments": {},
   "cell_type": "markdown",
   "metadata": {},
   "source": [
    "# LightkurveInterface"
   ]
  },
  {
   "cell_type": "code",
   "execution_count": null,
   "metadata": {},
   "outputs": [],
   "source": [
    "\n",
    "importlib.reload(lightkurveinterface)\n",
    "LKI = lightkurveinterface.LightkurveInterface(\n",
    "    tics=tics.astype(np.float64)\n",
    ")\n",
    "\n",
    "LKI.download_lightcurves_tess(\n",
    "    #saving data\n",
    "    save=False,\n",
    "    sectors='all',\n",
    "    quality_expression=\"(datum.quality == 0)\",\n",
    "    include_aperture=False, include_tpf=False,\n",
    "    #plotting\n",
    "    plot_result=True,\n",
    "    aperture_detail=50, ylims=None,\n",
    "    fontsize=16, figsize=(16,9),\n",
    "    save_plot=False,\n",
    "    sleep=0,\n",
    "    n_jobs=1, n_chunks=1,\n",
    "    verbose=2\n",
    ")\n",
    "\n",
    "print(LKI.df_extraction_summary)"
   ]
  }
 ],
 "metadata": {
  "kernelspec": {
   "display_name": "astrolust",
   "language": "python",
   "name": "python3"
  },
  "language_info": {
   "codemirror_mode": {
    "name": "ipython",
    "version": 3
   },
   "file_extension": ".py",
   "mimetype": "text/x-python",
   "name": "python",
   "nbconvert_exporter": "python",
   "pygments_lexer": "ipython3",
   "version": "3.10.8"
  },
  "orig_nbformat": 4
 },
 "nbformat": 4,
 "nbformat_minor": 2
}
