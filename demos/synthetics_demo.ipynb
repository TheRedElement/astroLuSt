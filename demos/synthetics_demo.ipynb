{
 "cells": [
  {
   "cell_type": "code",
   "execution_count": null,
   "metadata": {},
   "outputs": [],
   "source": [
    "import sys\n",
    "sys.path.append('../')\n",
    "import numpy as np\n",
    "import matplotlib.pyplot as plt\n",
    "\n",
    "import importlib\n",
    "\n",
    "from astroLuSt.synthetics import dataaugmentation as ald\n"
   ]
  },
  {
   "cell_type": "code",
   "execution_count": null,
   "metadata": {},
   "outputs": [],
   "source": [
    "def generate_4d(\n",
    "    shape:tuple=None,\n",
    "    xmin:float=0, xmax:float=1,\n",
    "    func=None\n",
    "    ):\n",
    "    if shape is None:\n",
    "        shape = (1,20,1,1)\n",
    "    if func is None:\n",
    "        func = lambda x: x\n",
    "    X = np.empty(shape)\n",
    "    for i, xi in enumerate(X):\n",
    "        x_ = np.linspace(np.zeros((X.shape[-2],X.shape[-1]))+xmin, xmax, X.shape[1])\n",
    "        \n",
    "        hshift = np.random.rand(x_.shape[1]).reshape(1,-1,1)\n",
    "        vshift = np.zeros_like(x_)+i\n",
    "        cnoise = np.random.randn(x_.shape[0], x_.shape[2]).reshape(50,1,-1)*0.1\n",
    "        vshift[:,1,:] += X.shape[0]\n",
    "        X[i] = func(x_+hshift) + vshift + cnoise\n",
    "\n",
    "    return X\n",
    "\n",
    "X = generate_4d(\n",
    "    shape=(20,50,2,3),\n",
    "    xmin=0, xmax=2*np.pi,\n",
    "    # func=np.sin,\n",
    "    func=None,\n",
    ")\n",
    "print(X.shape)\n",
    "#visualize\n",
    "fig = plt.figure()\n",
    "ax1 = fig.add_subplot(111)\n",
    "for x in X:\n",
    "    ax1.plot(x[:,0,:], 'r-')\n",
    "    # ax1.plot(x[:,1,0], 'r-')\n",
    "    ax1.plot(x[:,1,:], 'b-')\n",
    "ax1.set_xlabel('index')\n",
    "ax1.set_ylabel('y')\n",
    "plt.show()"
   ]
  },
  {
   "cell_type": "code",
   "execution_count": 899,
   "metadata": {},
   "outputs": [
    {
     "name": "stdout",
     "output_type": "stream",
     "text": [
      "AugmentAxis(\n",
      "    nsamples=50, sample_weights=None,\n",
      "    ntransformations=-1, methods=['add_noise', 'crop', 'flip_axis', 'obscure_observations', 'rescale', 'shift_features'],\n",
      "    shift=(0, 20),\n",
      "    flip=False,\n",
      "    npoints=5, neighbors=True,\n",
      "    fill_value_obscure=0, fill_value_range=(0, 1),\n",
      "    cutout_start=0, cutout_size=0,\n",
      "    interpkind='linear', fill_value_crop='extrapolate',\n",
      "    noise_mag=0,\n",
      "    feature_range_min=0, feature_range_max=(3, 9),\n",
      ")\n",
      "INFO(AugmentAxis.apply_transform):\n",
      "    Applied the following transformations: ['flip_axis' 'obscure_observations' 'crop' 'shift_features']\n"
     ]
    },
    {
     "data": {
      "image/png": "[encoded data removed]",
      "text/plain": [
       "<Figure size 640x480 with 1 Axes>"
      ]
     },
     "metadata": {},
     "output_type": "display_data"
    }
   ],
   "source": [
    "importlib.reload(ald)\n",
    "AA = ald.AugmentAxis(\n",
    "    nsamples=50, sample_weights=None,\n",
    "    shift=(0,20), methods=None,\n",
    "    npoints=5, neighbors=True,\n",
    "    fill_value_obscure=0, fill_value_range=(0,1),\n",
    "    interpkind=None, fill_value_crop=None,\n",
    "    noise_mag=None,\n",
    "    feature_range_min=0, feature_range_max=(3,9),\n",
    "    axis=0,\n",
    "    verbose=2,\n",
    ")\n",
    "print(AA)\n",
    "\n",
    "# for i in range(1):\n",
    "#     x_ = AA.shift_features(X[0], shift=None, axis=0)\n",
    "    # x_ = AA.flip_axis(x_, axis=(0,2))\n",
    "    # x_ = AA.obscure_observations(\n",
    "    #     x_,\n",
    "    #     npoints=(0,10), neighbors=False,\n",
    "    #     # fill_value_obscure='random', fill_value_range=None,\n",
    "    #     fill_value_obscure=0, fill_value_range=None,\n",
    "    #     axis=(0)\n",
    "    # )\n",
    "    # x_ = AA.crop(\n",
    "    #     x_,\n",
    "    #     cutout_start=-1, cutout_size=(0,8),\n",
    "    #     fill_value_crop=None, interpkind='nearest',\n",
    "    #     axis=0\n",
    "    # )\n",
    "    # x_ = AA.add_noise(x_, noise_mag=(0,2), axis=(0))\n",
    "    # x_ = AA.rescale(x_, feature_range_min=0, feature_range_max=(7,9), axis=0)\n",
    "\n",
    "x_ = AA.apply_transform(X[0],\n",
    "    ntransformations=4,\n",
    "    transform_parameters={'noise_mag':3,'axis':(0)},\n",
    "    methods=None,\n",
    "    # methods=[ 'obscure_observations', 'rescale',],\n",
    "    # methods=[ 'obscure_observations'],\n",
    "    # methods=[ 'rescale'],\n",
    ")\n",
    "\n",
    "#visualize\n",
    "fig = plt.figure()\n",
    "ax1 = fig.add_subplot(111)\n",
    "# for x in X_:\n",
    "# ax1.plot(X[0,:,0,:], 'r-')\n",
    "# ax1.plot(X[0,:,1,:], 'b-')\n",
    "ax1.plot(x_[:,0,:], 'r.')\n",
    "ax1.plot(x_[:,1,:], 'b.')\n",
    "# ax1.plot(x_[:,1,0], 'b.')\n",
    "# ax1.plot(x_[:,1,1], 'r.')\n",
    "# ax1.plot(x_[:,1,2], 'g.')\n",
    "ax1.set_xlabel('index')\n",
    "ax1.set_ylabel('y')\n",
    "plt.show()"
   ]
  }
 ],
 "metadata": {
  "kernelspec": {
   "display_name": "astroLuSt",
   "language": "python",
   "name": "python3"
  },
  "language_info": {
   "codemirror_mode": {
    "name": "ipython",
    "version": 3
   },
   "file_extension": ".py",
   "mimetype": "text/x-python",
   "name": "python",
   "nbconvert_exporter": "python",
   "pygments_lexer": "ipython3",
   "version": "3.10.8"
  },
  "orig_nbformat": 4
 },
 "nbformat": 4,
 "nbformat_minor": 2
}
