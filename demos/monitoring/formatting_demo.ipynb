{
 "cells": [
  {
   "cell_type": "code",
   "execution_count": 1,
   "metadata": {},
   "outputs": [],
   "source": [
    "import importlib\n",
    "import sys\n",
    "sys.path.append('../../')\n",
    "\n",
    "\n",
    "from astroLuSt.monitoring import formatting as almofo\n",
    "\n"
   ]
  },
  {
   "cell_type": "markdown",
   "metadata": {},
   "source": [
    "# Formatted Printing"
   ]
  },
  {
   "cell_type": "code",
   "execution_count": 2,
   "metadata": {},
   "outputs": [
    {
     "name": "stdout",
     "output_type": "stream",
     "text": [
      "INFO(): info at level 0\n",
      "    INFO(): info at level 1\n",
      "        INFO(): info at level 2\n",
      "WARNING(): warning at level 0\n",
      "    WARNING(): warning at level 1\n",
      "        WARNING(): warning at level 2\n"
     ]
    }
   ],
   "source": [
    "importlib.reload(almofo)\n",
    "verbose = 3\n",
    "\n",
    "for level in range(3):\n",
    "    almofo.printf(\n",
    "        msg=f'info at level {level}',\n",
    "        type='INFO',\n",
    "        level=level,\n",
    "        start=4*' ',\n",
    "        verbose=verbose\n",
    "    )\n",
    "for level in range(3):\n",
    "    almofo.printf(\n",
    "        msg=f'warning at level {level}',\n",
    "        type='WARNING',\n",
    "        level=level,\n",
    "        start=4*' ',\n",
    "        verbose=verbose\n",
    "    )"
   ]
  }
 ],
 "metadata": {
  "kernelspec": {
   "display_name": "astroLuSt",
   "language": "python",
   "name": "python3"
  },
  "language_info": {
   "codemirror_mode": {
    "name": "ipython",
    "version": 3
   },
   "file_extension": ".py",
   "mimetype": "text/x-python",
   "name": "python",
   "nbconvert_exporter": "python",
   "pygments_lexer": "ipython3",
   "version": "3.10.12"
  }
 },
 "nbformat": 4,
 "nbformat_minor": 2
}
