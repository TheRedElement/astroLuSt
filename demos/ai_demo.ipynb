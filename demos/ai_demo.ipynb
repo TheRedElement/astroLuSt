{
 "cells": [
  {
   "attachments": {},
   "cell_type": "markdown",
   "metadata": {},
   "source": [
    "# WandB_parallel_sweep\n",
    "\n",
    "This demonstration of the usage for the WandB_parallel_sweep class is based on the tutorial by Weights and Biases.\n",
    "The original tutorial and colab notebook can be found here:\n",
    "- [https://wandb.ai/site/articles/hyperparameter-tuning-as-easy-as-1-2-3](https://wandb.ai/site/articles/hyperparameter-tuning-as-easy-as-1-2-3)\n",
    "- [https://colab.research.google.com/drive/1gKixa6hNUB8qrn1CfHirOfTEQm0qLCSS#scrollTo=aIhxl7glaJ5k](https://colab.research.google.com/drive/1gKixa6hNUB8qrn1CfHirOfTEQm0qLCSS#scrollTo=aIhxl7glaJ5k)"
   ]
  },
  {
   "cell_type": "code",
   "execution_count": 1,
   "metadata": {},
   "outputs": [
    {
     "name": "stdout",
     "output_type": "stream",
     "text": [
      "2.11.0\n"
     ]
    }
   ],
   "source": [
    "import numpy as np\n",
    "\n",
    "#ai\n",
    "import tensorflow as tf\n",
    "from tensorflow import keras\n",
    "import tensorflow.keras.backend as K\n",
    "from keras.optimizers import RMSprop, SGD, Adam, Nadam\n",
    "from keras.datasets import mnist\n",
    "\n",
    "#wandb\n",
    "import wandb\n",
    "from wandb.keras import WandbCallback\n",
    "\n",
    "\n",
    "import sys\n",
    "sys.path.append('..')\n",
    "\n",
    "from astroLuSt.ai.wandb_utils import WandB_parallel_sweep\n",
    "\n",
    "print(tf.__version__)"
   ]
  },
  {
   "attachments": {},
   "cell_type": "markdown",
   "metadata": {},
   "source": [
    "## Define VAE"
   ]
  },
  {
   "cell_type": "code",
   "execution_count": 2,
   "metadata": {},
   "outputs": [],
   "source": [
    "class VariationalAutoencoder:\n",
    "    def __init__(self, input_shape, original_dim, intermediate_dim, latent_dim):\n",
    "        self.input_shape = input_shape\n",
    "        self.original_dim = original_dim\n",
    "        self.intermediate_dim = intermediate_dim\n",
    "        self.latent_dim = latent_dim\n",
    "\n",
    "    def build_model(self):\n",
    "        # instantiate VAE model\n",
    "        self.build_encoder()\n",
    "        self.build_decoder()\n",
    "\n",
    "        self.outputs = self.decoder(self.encoder(self.inputs)[2])\n",
    "\n",
    "        self.vae = keras.models.Model(self.inputs, self.outputs, name='vae_mlp')\n",
    "        self.add_loss()\n",
    "\n",
    "        return self.vae\n",
    "\n",
    "    def sampling(self, args):\n",
    "        z_mean, z_log_var = args\n",
    "        batch = K.shape(z_mean)[0]\n",
    "        dim = K.int_shape(z_mean)[1]\n",
    "        # by default, random_normal has mean = 0 and std = 1.0\n",
    "        epsilon = K.random_normal(shape=(batch, dim))\n",
    "        return z_mean + K.exp(0.5 * z_log_var) * epsilon\n",
    "\n",
    "    def build_encoder(self):\n",
    "        self.inputs = keras.layers.Input(shape=self.input_shape, name='encoder_input')\n",
    "        x = keras.layers.Dense(self.intermediate_dim, activation='relu')(self.inputs)\n",
    "        self.z_mean = keras.layers.Dense(self.latent_dim, name='z_mean')(x)\n",
    "        self.z_log_var = keras.layers.Dense(self.latent_dim, name='z_log_var')(x)\n",
    "\n",
    "        self.z = keras.layers.Lambda(self.sampling, output_shape=(self.latent_dim,), name='z')([self.z_mean, self.z_log_var])\n",
    "\n",
    "        # instantiate encoder model\n",
    "        self.encoder = keras.models.Model(self.inputs, [self.z_mean, self.z_log_var, self.z], name='encoder')\n",
    "\n",
    "\n",
    "    def build_decoder(self):\n",
    "        latent_inputs = keras.layers.Input(shape=(self.latent_dim,), name='z_sampling')\n",
    "        x = keras.layers.Dense(self.intermediate_dim, activation='relu')(latent_inputs)\n",
    "        outputs = keras.layers.Dense(self.original_dim, activation='sigmoid')(x)\n",
    "\n",
    "        # instantiate decoder model\n",
    "        self.decoder = keras.models.Model(latent_inputs, outputs, name='decoder')\n",
    "\n",
    "    def add_loss(self):\n",
    "        # VAE loss = mse_loss or xent_loss + kl_loss\n",
    "        reconstruction_loss = keras.losses.mse(self.inputs, self.outputs)\n",
    "        reconstruction_loss *= self.original_dim\n",
    "\n",
    "        kl_loss = 1 + self.z_log_var - K.square(self.z_mean) - K.exp(self.z_log_var)\n",
    "        kl_loss = K.sum(kl_loss, axis=-1)\n",
    "        kl_loss *= -0.5\n",
    "\n",
    "        vae_loss = K.mean(reconstruction_loss + kl_loss)\n",
    "\n",
    "        self.vae.add_loss(vae_loss)\n",
    "\n",
    "\n",
    "\n",
    "        keras.backend.clear_session()\n"
   ]
  },
  {
   "attachments": {},
   "cell_type": "markdown",
   "metadata": {},
   "source": [
    "## Custom Callback"
   ]
  },
  {
   "cell_type": "code",
   "execution_count": 3,
   "metadata": {},
   "outputs": [],
   "source": [
    "\n",
    "class ReconstructionLogger(tf.keras.callbacks.Callback):\n",
    "    def __init__(self, batch_size):\n",
    "        self.batch_size = batch_size\n",
    "\n",
    "        super(ReconstructionLogger, self).__init__()\n",
    "\n",
    "    def on_epoch_end(self, logs, epoch):\n",
    "        sample_images = x_test[:self.batch_size]\n",
    "        \n",
    "        images = []\n",
    "        reconstructions = []\n",
    "        \n",
    "        for i in range(32):\n",
    "            reconstruction = self.model.predict(sample_images[i].reshape((1,)+sample_images[i].shape))\n",
    "\n",
    "            images.append(sample_images[i].reshape(28,28))\n",
    "            reconstructions.append(reconstruction.reshape(28,28))\n",
    "\n",
    "        wandb.log({\"images\": [wandb.Image(image)\n",
    "                            for image in images]})\n",
    "        wandb.log({\"reconstructions\": [wandb.Image(reconstruction)\n",
    "                            for reconstruction in reconstructions]})\n",
    "\n"
   ]
  },
  {
   "attachments": {},
   "cell_type": "markdown",
   "metadata": {},
   "source": [
    "## Training Loop to be called by each agent during the sweep\n",
    "\n",
    "The training loop usually contains\n",
    "- run initialization\n",
    "- model definintion\n",
    "- model building\n",
    "- model compiling\n",
    "- model fitting\n",
    "- some extra logging if desired"
   ]
  },
  {
   "cell_type": "code",
   "execution_count": 4,
   "metadata": {},
   "outputs": [],
   "source": [
    "\n",
    "def train():\n",
    "\n",
    "    config_defaults = {\n",
    "       'epochs':5,\n",
    "       'batch_size':64,\n",
    "       'learning_rate':1e-3,\n",
    "    }\n",
    "\n",
    "    run = wandb.init(\n",
    "        # Set the project where this run will be logged\n",
    "        project=\"sweeptesting\",\n",
    "        config=config_defaults,\n",
    "    )\n",
    "\n",
    "    config = wandb.config\n",
    "\n",
    "    #callbacks\n",
    "    callbacks = (\n",
    "        WandbCallback(save_model=False),\n",
    "        ReconstructionLogger(config.batch_size),\n",
    "    )\n",
    "    \n",
    "    opt = Adam(lr=config.learning_rate, beta_1=0.9, beta_2=0.999, clipnorm=1.0)\n",
    "\n",
    "    K.clear_session()\n",
    "    vae = VariationalAutoencoder(input_shape=(784), \n",
    "                                original_dim=(784), \n",
    "                                intermediate_dim=512,\n",
    "                                latent_dim=2)\n",
    "    model = vae.build_model()\n",
    "    model.compile(optimizer=opt)\n",
    "\n",
    "\n",
    "    hist = model.fit(x_train, \n",
    "                x_train, \n",
    "                epochs=config.epochs, \n",
    "                batch_size=config.batch_size,\n",
    "                callbacks=callbacks)\n",
    "    \n",
    "    run.finish()\n"
   ]
  },
  {
   "attachments": {},
   "cell_type": "markdown",
   "metadata": {},
   "source": [
    "## Initializing wandb"
   ]
  },
  {
   "cell_type": "code",
   "execution_count": 5,
   "metadata": {},
   "outputs": [
    {
     "name": "stderr",
     "output_type": "stream",
     "text": [
      "Failed to detect the name of this notebook, you can set it manually with the WANDB_NOTEBOOK_NAME environment variable to enable code saving.\n",
      "\u001b[34m\u001b[1mwandb\u001b[0m: Currently logged in as: \u001b[33mlust\u001b[0m. Use \u001b[1m`wandb login --relogin`\u001b[0m to force relogin\n"
     ]
    },
    {
     "name": "stdout",
     "output_type": "stream",
     "text": [
      "Create sweep with ID: 1qpdl237\n",
      "Sweep URL: https://wandb.ai/lust/sweeptesting/sweeps/1qpdl237\n"
     ]
    }
   ],
   "source": [
    "\n",
    "wandb.login()\n",
    "\n",
    "\n",
    "# Configure the sweep – specify the parameters to search through, the search strategy, the optimization metric et all.\n",
    "sweep_config = {\n",
    "    'method':'grid', #grid, random\n",
    "    'metric':{\n",
    "        'name'  : 'accuracy',\n",
    "        'goal'  : 'maximize'   \n",
    "    },\n",
    "    'run_cap':4,\n",
    "    'parameters':{\n",
    "        'epochs':{\n",
    "            'values':[2]\n",
    "        },\n",
    "        'batch_size':{\n",
    "            'values':[256, 128]\n",
    "        },\n",
    "        'learning_rate':{\n",
    "            'values':[1e-2, 1e-3]\n",
    "        },\n",
    "    }\n",
    "}\n",
    "sweep_id = wandb.sweep(sweep_config, entity=None, project=\"sweeptesting\")\n"
   ]
  },
  {
   "attachments": {},
   "cell_type": "markdown",
   "metadata": {},
   "source": [
    "## Loading the data"
   ]
  },
  {
   "cell_type": "code",
   "execution_count": 6,
   "metadata": {},
   "outputs": [
    {
     "name": "stdout",
     "output_type": "stream",
     "text": [
      "X_train:  (60000, 784)\n",
      "X_test:  (10000, 784)\n"
     ]
    }
   ],
   "source": [
    "#MNIST dataset\n",
    "(x_train, y_train), (x_test, y_test) = mnist.load_data()\n",
    "\n",
    "image_size = x_train.shape[1]\n",
    "original_dim = image_size * image_size\n",
    "x_train = np.reshape(x_train, [-1, original_dim])\n",
    "x_test = np.reshape(x_test, [-1, original_dim])\n",
    "x_train = x_train.astype('float32') / 255\n",
    "x_test = x_test.astype('float32') / 255\n",
    "\n",
    "## Just dataset info\n",
    "print(\"X_train: \", x_train.shape)\n",
    "print(\"X_test: \", x_test.shape)"
   ]
  },
  {
   "attachments": {},
   "cell_type": "markdown",
   "metadata": {},
   "source": [
    "## Instantiating and running a parallelized sweeper"
   ]
  },
  {
   "cell_type": "code",
   "execution_count": 7,
   "metadata": {},
   "outputs": [
    {
     "name": "stdout",
     "output_type": "stream",
     "text": [
      "WandB_parallel_sweep(\n",
      "    sweep_id=1qpdl237, function=<function train at 0x00000206E23291B0>,\n",
      "    n_jobs=4, n_agents=4,\n",
      "    wandb_mode=online,\n",
      "    verbose=3,\n",
      ")\n"
     ]
    }
   ],
   "source": [
    "PS = WandB_parallel_sweep(\n",
    "   sweep_id, train, n_jobs=4, n_agents=-1, wandb_mode='online', verbose=3,\n",
    ")\n",
    "\n",
    "#estimate upper bound of required agents and adopting it in PS\n",
    "n_comb = PS.get_upper_bound_agents(sweep_config)\n",
    "PS.n_agents = n_comb\n",
    "\n",
    "print(PS)\n"
   ]
  },
  {
   "cell_type": "code",
   "execution_count": 8,
   "metadata": {},
   "outputs": [
    {
     "name": "stdout",
     "output_type": "stream",
     "text": [
      "INFO(sweep_parallel()): Using n_jobs=4 jobs and n_agents=4 agents to run sweep.\n",
      "\n",
      "######################################################################\n",
      "INFO: Started sweep_parallel at 2023-05-03T18:55:15\n"
     ]
    },
    {
     "name": "stderr",
     "output_type": "stream",
     "text": [
      "[Parallel(n_jobs=4)]: Using backend LokyBackend with 4 concurrent workers.\n"
     ]
    },
    {
     "ename": "LookupError",
     "evalue": "IndexError occured. Probably your provided 'taskname' has never been initialized.Make sure to initialize a 'taskname' before calling 'checkpoint_end()!\nOriginal Error: index 0 is out of bounds for axis 0 with size 0.",
     "output_type": "error",
     "traceback": [
      "\u001b[1;31m---------------------------------------------------------------------------\u001b[0m",
      "\u001b[1;31m_RemoteTraceback\u001b[0m                          Traceback (most recent call last)",
      "\u001b[1;31m_RemoteTraceback\u001b[0m: \n\"\"\"\nTraceback (most recent call last):\n  File \"c:\\Users\\lukas\\Documents\\GitHub\\astroLuSt\\demos\\..\\astroLuSt\\monitoring\\timers.py\", line 130, in checkpoint_end\n    start_time = self.df_protocoll[(self.df_protocoll[\"Task\"]==taskname)][\"Start\"].values[0]\nIndexError: index 0 is out of bounds for axis 0 with size 0\n\nDuring handling of the above exception, another exception occurred:\n\nTraceback (most recent call last):\n  File \"c:\\Users\\lukas\\AppData\\Local\\Programs\\Python\\Python310\\venvs\\astrolust\\lib\\site-packages\\joblib\\externals\\loky\\process_executor.py\", line 428, in _process_worker\n    r = call_item()\n  File \"c:\\Users\\lukas\\AppData\\Local\\Programs\\Python\\Python310\\venvs\\astrolust\\lib\\site-packages\\joblib\\externals\\loky\\process_executor.py\", line 275, in __call__\n    return self.fn(*self.args, **self.kwargs)\n  File \"c:\\Users\\lukas\\AppData\\Local\\Programs\\Python\\Python310\\venvs\\astrolust\\lib\\site-packages\\joblib\\_parallel_backends.py\", line 620, in __call__\n    return self.func(*args, **kwargs)\n  File \"c:\\Users\\lukas\\AppData\\Local\\Programs\\Python\\Python310\\venvs\\astrolust\\lib\\site-packages\\joblib\\parallel.py\", line 288, in __call__\n    return [func(*args, **kwargs)\n  File \"c:\\Users\\lukas\\AppData\\Local\\Programs\\Python\\Python310\\venvs\\astrolust\\lib\\site-packages\\joblib\\parallel.py\", line 288, in <listcomp>\n    return [func(*args, **kwargs)\n  File \"c:\\Users\\lukas\\Documents\\GitHub\\astroLuSt\\demos\\..\\astroLuSt\\ai\\wandb_utils.py\", line 246, in sweep_one\n    self.ET.checkpoint_end(f'sweep_one, agent {idx}')\n  File \"c:\\Users\\lukas\\Documents\\GitHub\\astroLuSt\\demos\\..\\astroLuSt\\monitoring\\timers.py\", line 137, in checkpoint_end\n    raise LookupError(msg)\nLookupError: IndexError occured. Probably your provided 'taskname' has never been initialized.Make sure to initialize a 'taskname' before calling 'checkpoint_end()!\nOriginal Error: index 0 is out of bounds for axis 0 with size 0.\n\"\"\"",
      "\nThe above exception was the direct cause of the following exception:\n",
      "\u001b[1;31mLookupError\u001b[0m                               Traceback (most recent call last)",
      "Cell \u001b[1;32mIn[8], line 1\u001b[0m\n\u001b[1;32m----> 1\u001b[0m PS\u001b[39m.\u001b[39;49msweep_parallel()\n",
      "File \u001b[1;32mc:\\Users\\lukas\\Documents\\GitHub\\astroLuSt\\demos\\..\\astroLuSt\\ai\\wandb_utils.py:337\u001b[0m, in \u001b[0;36mWandB_parallel_sweep.sweep_parallel\u001b[1;34m(self, sweep_id, function, n_jobs, n_agents, verbose)\u001b[0m\n\u001b[0;32m    335\u001b[0m \u001b[39mself\u001b[39m\u001b[39m.\u001b[39mET\u001b[39m.\u001b[39mcheckpoint_start(\u001b[39m'\u001b[39m\u001b[39msweep_parallel\u001b[39m\u001b[39m'\u001b[39m)\n\u001b[0;32m    336\u001b[0m \u001b[39m#execute paralellized hyperparameter sweep\u001b[39;00m\n\u001b[1;32m--> 337\u001b[0m res \u001b[39m=\u001b[39m Parallel(n_jobs\u001b[39m=\u001b[39;49mn_jobs, verbose\u001b[39m=\u001b[39;49mverbose)(\n\u001b[0;32m    338\u001b[0m     delayed(\u001b[39mself\u001b[39;49m\u001b[39m.\u001b[39;49msweep_one)(\n\u001b[0;32m    339\u001b[0m         sweep_id\u001b[39m=\u001b[39;49msweep_id, function\u001b[39m=\u001b[39;49mfunction,\n\u001b[0;32m    340\u001b[0m         idx\u001b[39m=\u001b[39;49midx, n_agents\u001b[39m=\u001b[39;49mn_agents,\n\u001b[0;32m    341\u001b[0m         verbose\u001b[39m=\u001b[39;49mverbose,\n\u001b[0;32m    342\u001b[0m     ) \u001b[39mfor\u001b[39;49;00m idx \u001b[39min\u001b[39;49;00m \u001b[39mrange\u001b[39;49m(n_agents)\n\u001b[0;32m    343\u001b[0m )\n\u001b[0;32m    345\u001b[0m \u001b[39mself\u001b[39m\u001b[39m.\u001b[39mET\u001b[39m.\u001b[39mcheckpoint_end(\u001b[39m'\u001b[39m\u001b[39msweep_parallel\u001b[39m\u001b[39m'\u001b[39m)\n\u001b[0;32m    349\u001b[0m \u001b[39mreturn\u001b[39;00m\n",
      "File \u001b[1;32mc:\\Users\\lukas\\AppData\\Local\\Programs\\Python\\Python310\\venvs\\astrolust\\lib\\site-packages\\joblib\\parallel.py:1098\u001b[0m, in \u001b[0;36mParallel.__call__\u001b[1;34m(self, iterable)\u001b[0m\n\u001b[0;32m   1095\u001b[0m     \u001b[39mself\u001b[39m\u001b[39m.\u001b[39m_iterating \u001b[39m=\u001b[39m \u001b[39mFalse\u001b[39;00m\n\u001b[0;32m   1097\u001b[0m \u001b[39mwith\u001b[39;00m \u001b[39mself\u001b[39m\u001b[39m.\u001b[39m_backend\u001b[39m.\u001b[39mretrieval_context():\n\u001b[1;32m-> 1098\u001b[0m     \u001b[39mself\u001b[39;49m\u001b[39m.\u001b[39;49mretrieve()\n\u001b[0;32m   1099\u001b[0m \u001b[39m# Make sure that we get a last message telling us we are done\u001b[39;00m\n\u001b[0;32m   1100\u001b[0m elapsed_time \u001b[39m=\u001b[39m time\u001b[39m.\u001b[39mtime() \u001b[39m-\u001b[39m \u001b[39mself\u001b[39m\u001b[39m.\u001b[39m_start_time\n",
      "File \u001b[1;32mc:\\Users\\lukas\\AppData\\Local\\Programs\\Python\\Python310\\venvs\\astrolust\\lib\\site-packages\\joblib\\parallel.py:975\u001b[0m, in \u001b[0;36mParallel.retrieve\u001b[1;34m(self)\u001b[0m\n\u001b[0;32m    973\u001b[0m \u001b[39mtry\u001b[39;00m:\n\u001b[0;32m    974\u001b[0m     \u001b[39mif\u001b[39;00m \u001b[39mgetattr\u001b[39m(\u001b[39mself\u001b[39m\u001b[39m.\u001b[39m_backend, \u001b[39m'\u001b[39m\u001b[39msupports_timeout\u001b[39m\u001b[39m'\u001b[39m, \u001b[39mFalse\u001b[39;00m):\n\u001b[1;32m--> 975\u001b[0m         \u001b[39mself\u001b[39m\u001b[39m.\u001b[39m_output\u001b[39m.\u001b[39mextend(job\u001b[39m.\u001b[39;49mget(timeout\u001b[39m=\u001b[39;49m\u001b[39mself\u001b[39;49m\u001b[39m.\u001b[39;49mtimeout))\n\u001b[0;32m    976\u001b[0m     \u001b[39melse\u001b[39;00m:\n\u001b[0;32m    977\u001b[0m         \u001b[39mself\u001b[39m\u001b[39m.\u001b[39m_output\u001b[39m.\u001b[39mextend(job\u001b[39m.\u001b[39mget())\n",
      "File \u001b[1;32mc:\\Users\\lukas\\AppData\\Local\\Programs\\Python\\Python310\\venvs\\astrolust\\lib\\site-packages\\joblib\\_parallel_backends.py:567\u001b[0m, in \u001b[0;36mLokyBackend.wrap_future_result\u001b[1;34m(future, timeout)\u001b[0m\n\u001b[0;32m    564\u001b[0m \u001b[39m\u001b[39m\u001b[39m\"\"\"Wrapper for Future.result to implement the same behaviour as\u001b[39;00m\n\u001b[0;32m    565\u001b[0m \u001b[39mAsyncResults.get from multiprocessing.\"\"\"\u001b[39;00m\n\u001b[0;32m    566\u001b[0m \u001b[39mtry\u001b[39;00m:\n\u001b[1;32m--> 567\u001b[0m     \u001b[39mreturn\u001b[39;00m future\u001b[39m.\u001b[39;49mresult(timeout\u001b[39m=\u001b[39;49mtimeout)\n\u001b[0;32m    568\u001b[0m \u001b[39mexcept\u001b[39;00m CfTimeoutError \u001b[39mas\u001b[39;00m e:\n\u001b[0;32m    569\u001b[0m     \u001b[39mraise\u001b[39;00m \u001b[39mTimeoutError\u001b[39;00m \u001b[39mfrom\u001b[39;00m \u001b[39me\u001b[39;00m\n",
      "File \u001b[1;32m~\\AppData\\Local\\Programs\\Python\\Python310\\lib\\concurrent\\futures\\_base.py:458\u001b[0m, in \u001b[0;36mFuture.result\u001b[1;34m(self, timeout)\u001b[0m\n\u001b[0;32m    456\u001b[0m     \u001b[39mraise\u001b[39;00m CancelledError()\n\u001b[0;32m    457\u001b[0m \u001b[39melif\u001b[39;00m \u001b[39mself\u001b[39m\u001b[39m.\u001b[39m_state \u001b[39m==\u001b[39m FINISHED:\n\u001b[1;32m--> 458\u001b[0m     \u001b[39mreturn\u001b[39;00m \u001b[39mself\u001b[39;49m\u001b[39m.\u001b[39;49m__get_result()\n\u001b[0;32m    459\u001b[0m \u001b[39melse\u001b[39;00m:\n\u001b[0;32m    460\u001b[0m     \u001b[39mraise\u001b[39;00m \u001b[39mTimeoutError\u001b[39;00m()\n",
      "File \u001b[1;32m~\\AppData\\Local\\Programs\\Python\\Python310\\lib\\concurrent\\futures\\_base.py:403\u001b[0m, in \u001b[0;36mFuture.__get_result\u001b[1;34m(self)\u001b[0m\n\u001b[0;32m    401\u001b[0m \u001b[39mif\u001b[39;00m \u001b[39mself\u001b[39m\u001b[39m.\u001b[39m_exception:\n\u001b[0;32m    402\u001b[0m     \u001b[39mtry\u001b[39;00m:\n\u001b[1;32m--> 403\u001b[0m         \u001b[39mraise\u001b[39;00m \u001b[39mself\u001b[39m\u001b[39m.\u001b[39m_exception\n\u001b[0;32m    404\u001b[0m     \u001b[39mfinally\u001b[39;00m:\n\u001b[0;32m    405\u001b[0m         \u001b[39m# Break a reference cycle with the exception in self._exception\u001b[39;00m\n\u001b[0;32m    406\u001b[0m         \u001b[39mself\u001b[39m \u001b[39m=\u001b[39m \u001b[39mNone\u001b[39;00m\n",
      "\u001b[1;31mLookupError\u001b[0m: IndexError occured. Probably your provided 'taskname' has never been initialized.Make sure to initialize a 'taskname' before calling 'checkpoint_end()!\nOriginal Error: index 0 is out of bounds for axis 0 with size 0."
     ]
    }
   ],
   "source": [
    "PS.sweep_parallel()\n",
    "\n"
   ]
  },
  {
   "cell_type": "code",
   "execution_count": 9,
   "metadata": {},
   "outputs": [
    {
     "name": "stdout",
     "output_type": "stream",
     "text": [
      "             Task               Start                  End         Duration  \\\n",
      "0  sweep_parallel 2023-04-17 19:39:44  2023-04-17T19:41:21  0 days 00:01:37   \n",
      "\n",
      "  Comment_Start Comment_End  \n",
      "0                            \n"
     ]
    }
   ],
   "source": [
    "print(PS.ET.df_protocoll)"
   ]
  }
 ],
 "metadata": {
  "kernelspec": {
   "display_name": "astrolust",
   "language": "python",
   "name": "python3"
  },
  "language_info": {
   "codemirror_mode": {
    "name": "ipython",
    "version": 3
   },
   "file_extension": ".py",
   "mimetype": "text/x-python",
   "name": "python",
   "nbconvert_exporter": "python",
   "pygments_lexer": "ipython3",
   "version": "3.10.8"
  },
  "orig_nbformat": 4
 },
 "nbformat": 4,
 "nbformat_minor": 2
}
