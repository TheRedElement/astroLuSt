{
 "cells": [
  {
   "attachments": {},
   "cell_type": "markdown",
   "metadata": {},
   "source": [
    "# WandB_parallel_sweep\n",
    "\n",
    "This demonstration of the usage for the WandB_parallel_sweep class is based on the tutorial by Weights and Biases.\n",
    "The original tutorial and colab notebook can be found here:\n",
    "- [https://wandb.ai/site/articles/hyperparameter-tuning-as-easy-as-1-2-3](https://wandb.ai/site/articles/hyperparameter-tuning-as-easy-as-1-2-3)\n",
    "- [https://colab.research.google.com/drive/1gKixa6hNUB8qrn1CfHirOfTEQm0qLCSS#scrollTo=aIhxl7glaJ5k](https://colab.research.google.com/drive/1gKixa6hNUB8qrn1CfHirOfTEQm0qLCSS#scrollTo=aIhxl7glaJ5k)"
   ]
  },
  {
   "cell_type": "code",
   "execution_count": 5,
   "metadata": {},
   "outputs": [
    {
     "name": "stdout",
     "output_type": "stream",
     "text": [
      "2.11.0\n"
     ]
    }
   ],
   "source": [
    "import numpy as np\n",
    "\n",
    "#ai\n",
    "import tensorflow as tf\n",
    "from tensorflow import keras\n",
    "import tensorflow.keras.backend as K\n",
    "from keras.optimizers import RMSprop, SGD, Adam, Nadam\n",
    "from keras.datasets import mnist\n",
    "\n",
    "#wandb\n",
    "import wandb\n",
    "from wandb.keras import WandbCallback\n",
    "\n",
    "\n",
    "import sys\n",
    "sys.path.append('..')\n",
    "\n",
    "from astroLuSt.ai.wandb_utils import WandB_parallel_sweep\n",
    "\n",
    "print(tf.__version__)"
   ]
  },
  {
   "attachments": {},
   "cell_type": "markdown",
   "metadata": {},
   "source": [
    "## Define VAE"
   ]
  },
  {
   "cell_type": "code",
   "execution_count": 6,
   "metadata": {},
   "outputs": [],
   "source": [
    "class VariationalAutoencoder:\n",
    "    def __init__(self, input_shape, original_dim, intermediate_dim, latent_dim):\n",
    "        self.input_shape = input_shape\n",
    "        self.original_dim = original_dim\n",
    "        self.intermediate_dim = intermediate_dim\n",
    "        self.latent_dim = latent_dim\n",
    "\n",
    "    def build_model(self):\n",
    "        # instantiate VAE model\n",
    "        self.build_encoder()\n",
    "        self.build_decoder()\n",
    "\n",
    "        self.outputs = self.decoder(self.encoder(self.inputs)[2])\n",
    "\n",
    "        self.vae = keras.models.Model(self.inputs, self.outputs, name='vae_mlp')\n",
    "        self.add_loss()\n",
    "\n",
    "        return self.vae\n",
    "\n",
    "    def sampling(self, args):\n",
    "        z_mean, z_log_var = args\n",
    "        batch = K.shape(z_mean)[0]\n",
    "        dim = K.int_shape(z_mean)[1]\n",
    "        # by default, random_normal has mean = 0 and std = 1.0\n",
    "        epsilon = K.random_normal(shape=(batch, dim))\n",
    "        return z_mean + K.exp(0.5 * z_log_var) * epsilon\n",
    "\n",
    "    def build_encoder(self):\n",
    "        self.inputs = keras.layers.Input(shape=self.input_shape, name='encoder_input')\n",
    "        x = keras.layers.Dense(self.intermediate_dim, activation='relu')(self.inputs)\n",
    "        self.z_mean = keras.layers.Dense(self.latent_dim, name='z_mean')(x)\n",
    "        self.z_log_var = keras.layers.Dense(self.latent_dim, name='z_log_var')(x)\n",
    "\n",
    "        self.z = keras.layers.Lambda(self.sampling, output_shape=(self.latent_dim,), name='z')([self.z_mean, self.z_log_var])\n",
    "\n",
    "        # instantiate encoder model\n",
    "        self.encoder = keras.models.Model(self.inputs, [self.z_mean, self.z_log_var, self.z], name='encoder')\n",
    "\n",
    "\n",
    "    def build_decoder(self):\n",
    "        latent_inputs = keras.layers.Input(shape=(self.latent_dim,), name='z_sampling')\n",
    "        x = keras.layers.Dense(self.intermediate_dim, activation='relu')(latent_inputs)\n",
    "        outputs = keras.layers.Dense(self.original_dim, activation='sigmoid')(x)\n",
    "\n",
    "        # instantiate decoder model\n",
    "        self.decoder = keras.models.Model(latent_inputs, outputs, name='decoder')\n",
    "\n",
    "    def add_loss(self):\n",
    "        # VAE loss = mse_loss or xent_loss + kl_loss\n",
    "        reconstruction_loss = keras.losses.mse(self.inputs, self.outputs)\n",
    "        reconstruction_loss *= self.original_dim\n",
    "\n",
    "        kl_loss = 1 + self.z_log_var - K.square(self.z_mean) - K.exp(self.z_log_var)\n",
    "        kl_loss = K.sum(kl_loss, axis=-1)\n",
    "        kl_loss *= -0.5\n",
    "\n",
    "        vae_loss = K.mean(reconstruction_loss + kl_loss)\n",
    "\n",
    "        self.vae.add_loss(vae_loss)\n",
    "\n",
    "\n",
    "\n",
    "        keras.backend.clear_session()\n"
   ]
  },
  {
   "attachments": {},
   "cell_type": "markdown",
   "metadata": {},
   "source": [
    "## Custom Callback"
   ]
  },
  {
   "cell_type": "code",
   "execution_count": 7,
   "metadata": {},
   "outputs": [],
   "source": [
    "\n",
    "class ReconstructionLogger(tf.keras.callbacks.Callback):\n",
    "    def __init__(self, batch_size):\n",
    "        self.batch_size = batch_size\n",
    "\n",
    "        super(ReconstructionLogger, self).__init__()\n",
    "\n",
    "    def on_epoch_end(self, logs, epoch):\n",
    "        sample_images = x_test[:self.batch_size]\n",
    "        \n",
    "        images = []\n",
    "        reconstructions = []\n",
    "        \n",
    "        for i in range(32):\n",
    "            reconstruction = self.model.predict(sample_images[i].reshape((1,)+sample_images[i].shape))\n",
    "\n",
    "            images.append(sample_images[i].reshape(28,28))\n",
    "            reconstructions.append(reconstruction.reshape(28,28))\n",
    "\n",
    "        wandb.log({\"images\": [wandb.Image(image)\n",
    "                            for image in images]})\n",
    "        wandb.log({\"reconstructions\": [wandb.Image(reconstruction)\n",
    "                            for reconstruction in reconstructions]})\n",
    "\n"
   ]
  },
  {
   "attachments": {},
   "cell_type": "markdown",
   "metadata": {},
   "source": [
    "## Training Loop to be called by each agent during the sweep\n",
    "\n",
    "The training loop usually contains\n",
    "- run initialization\n",
    "- model definintion\n",
    "- model building\n",
    "- model compiling\n",
    "- model fitting\n",
    "- some extra logging if desired"
   ]
  },
  {
   "cell_type": "code",
   "execution_count": 8,
   "metadata": {},
   "outputs": [],
   "source": [
    "\n",
    "def train():\n",
    "\n",
    "    config_defaults = {\n",
    "       'epochs':5,\n",
    "       'batch_size':64,\n",
    "       'learning_rate':1e-3,\n",
    "    }\n",
    "\n",
    "    run = wandb.init(\n",
    "        # Set the project where this run will be logged\n",
    "        project=\"sweeptesting\",\n",
    "        config=config_defaults,\n",
    "    )\n",
    "\n",
    "    config = wandb.config\n",
    "\n",
    "    #callbacks\n",
    "    callbacks = (\n",
    "        WandbCallback(save_model=False),\n",
    "        ReconstructionLogger(config.batch_size),\n",
    "    )\n",
    "    \n",
    "    opt = Adam(lr=config.learning_rate, beta_1=0.9, beta_2=0.999, clipnorm=1.0)\n",
    "\n",
    "    K.clear_session()\n",
    "    vae = VariationalAutoencoder(input_shape=(784), \n",
    "                                original_dim=(784), \n",
    "                                intermediate_dim=512,\n",
    "                                latent_dim=2)\n",
    "    model = vae.build_model()\n",
    "    model.compile(optimizer=opt)\n",
    "\n",
    "\n",
    "    hist = model.fit(x_train, \n",
    "                x_train, \n",
    "                epochs=config.epochs, \n",
    "                batch_size=config.batch_size,\n",
    "                callbacks=callbacks)\n",
    "    \n",
    "    run.finish()\n"
   ]
  },
  {
   "attachments": {},
   "cell_type": "markdown",
   "metadata": {},
   "source": [
    "## Initializing wandb"
   ]
  },
  {
   "cell_type": "code",
   "execution_count": 9,
   "metadata": {},
   "outputs": [
    {
     "name": "stderr",
     "output_type": "stream",
     "text": [
      "Failed to detect the name of this notebook, you can set it manually with the WANDB_NOTEBOOK_NAME environment variable to enable code saving.\n",
      "\u001b[34m\u001b[1mwandb\u001b[0m: Currently logged in as: \u001b[33mlust\u001b[0m. Use \u001b[1m`wandb login --relogin`\u001b[0m to force relogin\n"
     ]
    },
    {
     "name": "stdout",
     "output_type": "stream",
     "text": [
      "Create sweep with ID: x00g4uzq\n",
      "Sweep URL: https://wandb.ai/lust/sweeptesting/sweeps/x00g4uzq\n"
     ]
    }
   ],
   "source": [
    "\n",
    "wandb.login()\n",
    "\n",
    "\n",
    "# Configure the sweep – specify the parameters to search through, the search strategy, the optimization metric et all.\n",
    "sweep_config = {\n",
    "    'method': 'grid', #grid, random\n",
    "    'metric': {\n",
    "      'name': 'accuracy',\n",
    "      'goal': 'maximize'   \n",
    "    },\n",
    "    'parameters': {\n",
    "        'epochs': {\n",
    "            'values': [2]\n",
    "        },\n",
    "        'batch_size': {\n",
    "            'values': [256, 128]\n",
    "        },\n",
    "        'learning_rate': {\n",
    "            'values': [1e-2, 1e-3]\n",
    "        },\n",
    "    }\n",
    "}\n",
    "sweep_id = wandb.sweep(sweep_config, entity=None, project=\"sweeptesting\")\n"
   ]
  },
  {
   "attachments": {},
   "cell_type": "markdown",
   "metadata": {},
   "source": [
    "## Loading the data"
   ]
  },
  {
   "cell_type": "code",
   "execution_count": 10,
   "metadata": {},
   "outputs": [
    {
     "name": "stdout",
     "output_type": "stream",
     "text": [
      "X_train:  (60000, 784)\n",
      "X_test:  (10000, 784)\n"
     ]
    }
   ],
   "source": [
    "#MNIST dataset\n",
    "(x_train, y_train), (x_test, y_test) = mnist.load_data()\n",
    "\n",
    "image_size = x_train.shape[1]\n",
    "original_dim = image_size * image_size\n",
    "x_train = np.reshape(x_train, [-1, original_dim])\n",
    "x_test = np.reshape(x_test, [-1, original_dim])\n",
    "x_train = x_train.astype('float32') / 255\n",
    "x_test = x_test.astype('float32') / 255\n",
    "\n",
    "## Just dataset info\n",
    "print(\"X_train: \", x_train.shape)\n",
    "print(\"X_test: \", x_test.shape)"
   ]
  },
  {
   "attachments": {},
   "cell_type": "markdown",
   "metadata": {},
   "source": [
    "## Instantiating and running a parallelized sweeper"
   ]
  },
  {
   "cell_type": "code",
   "execution_count": 12,
   "metadata": {},
   "outputs": [
    {
     "name": "stdout",
     "output_type": "stream",
     "text": [
      "WandB_parallel_sweep(\n",
      "    sweep_id=x00g4uzq, function=<function train at 0x000001F88D45AF80>,\n",
      "    n_jobs=4, n_agents=4,\n",
      "    wandb_mode=None,\n",
      "    verbose=3,\n",
      ")\n"
     ]
    }
   ],
   "source": [
    "PS = WandB_parallel_sweep(\n",
    "   sweep_id, train, n_jobs=4, n_agents=4, wandb_mode=None, verbose=3,\n",
    ")\n",
    "\n",
    "print(PS)\n"
   ]
  },
  {
   "cell_type": "code",
   "execution_count": 13,
   "metadata": {},
   "outputs": [
    {
     "name": "stdout",
     "output_type": "stream",
     "text": [
      "\n",
      "######################################################################\n",
      "INFO: Started sweep_parallel at 2023-04-16T21:28:10\n"
     ]
    },
    {
     "name": "stderr",
     "output_type": "stream",
     "text": [
      "[Parallel(n_jobs=4)]: Using backend LokyBackend with 4 concurrent workers.\n"
     ]
    }
   ],
   "source": [
    "PS.sweep_parallel()\n",
    "\n"
   ]
  },
  {
   "cell_type": "code",
   "execution_count": null,
   "metadata": {},
   "outputs": [],
   "source": [
    "print(PS.ET.df_protocoll)"
   ]
  }
 ],
 "metadata": {
  "kernelspec": {
   "display_name": "astrolust",
   "language": "python",
   "name": "python3"
  },
  "language_info": {
   "codemirror_mode": {
    "name": "ipython",
    "version": 3
   },
   "file_extension": ".py",
   "mimetype": "text/x-python",
   "name": "python",
   "nbconvert_exporter": "python",
   "pygments_lexer": "ipython3",
   "version": "3.10.8"
  },
  "orig_nbformat": 4
 },
 "nbformat": 4,
 "nbformat_minor": 2
}
