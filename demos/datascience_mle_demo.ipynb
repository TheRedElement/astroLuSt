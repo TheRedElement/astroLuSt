{
 "cells": [
  {
   "cell_type": "code",
   "execution_count": 10,
   "metadata": {},
   "outputs": [],
   "source": [
    "import matplotlib.pyplot as plt\n",
    "import numpy as np\n",
    "from sklearn.datasets import make_blobs\n",
    "import sys\n",
    "\n",
    "sys.path.append(\"../\")\n",
    "\n",
    "from astroLuSt.datascience import mle as aldaml\n"
   ]
  },
  {
   "cell_type": "markdown",
   "metadata": {},
   "source": [
    "# Maximum-Likelihood Estimate (MLE)"
   ]
  },
  {
   "cell_type": "code",
   "execution_count": 16,
   "metadata": {},
   "outputs": [],
   "source": [
    "#generate dataset\n",
    "X, y = make_blobs(100, n_features=4, centers=1)"
   ]
  },
  {
   "cell_type": "code",
   "execution_count": null,
   "metadata": {},
   "outputs": [
    {
     "name": "stderr",
     "output_type": "stream",
     "text": [
      "/home/lukas/github/astroLuSt/demos/../astroLuSt/visualization/plots.py:416: UserWarning: set_ticklabels() should only be used with a fixed number of ticks, i.e. after set_ticks() or using a FixedLocator.\n",
      "  ax.set_xticklabels(ax.get_xticklabels(), visible=False)\n",
      "/home/lukas/github/astroLuSt/demos/../astroLuSt/visualization/plots.py:411: UserWarning: set_ticklabels() should only be used with a fixed number of ticks, i.e. after set_ticks() or using a FixedLocator.\n",
      "  ax.set_yticklabels(ax.get_yticklabels(), visible=False)\n",
      "/home/lukas/github/astroLuSt/demos/../astroLuSt/visualization/plots.py:411: UserWarning: set_ticklabels() should only be used with a fixed number of ticks, i.e. after set_ticks() or using a FixedLocator.\n",
      "  ax.set_yticklabels(ax.get_yticklabels(), visible=False)\n",
      "/home/lukas/github/astroLuSt/demos/../astroLuSt/visualization/plots.py:411: UserWarning: set_ticklabels() should only be used with a fixed number of ticks, i.e. after set_ticks() or using a FixedLocator.\n",
      "  ax.set_yticklabels(ax.get_yticklabels(), visible=False)\n"
     ]
    }
   ],
   "source": [
    "MLE = aldaml.MLE()\n",
    "\n",
    "MLE.fit(X, y)\n",
    "\n",
    "fig = plt.figure(figsize=(9,9))\n",
    "fig, axs = MLE.plot_result(\n",
    "    featurenames=[f\"x{i}\" for i in range(X.shape[1])],\n",
    "    corner_kwargs=dict(fig=fig)\n",
    ")\n",
    "fig.tight_layout()"
   ]
  }
 ],
 "metadata": {
  "kernelspec": {
   "display_name": "astroLuSt",
   "language": "python",
   "name": "python3"
  },
  "language_info": {
   "codemirror_mode": {
    "name": "ipython",
    "version": 3
   },
   "file_extension": ".py",
   "mimetype": "text/x-python",
   "name": "python",
   "nbconvert_exporter": "python",
   "pygments_lexer": "ipython3",
   "version": "3.10.12"
  }
 },
 "nbformat": 4,
 "nbformat_minor": 2
}
