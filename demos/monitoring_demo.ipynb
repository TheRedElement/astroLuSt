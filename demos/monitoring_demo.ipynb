{
 "cells": [
  {
   "attachments": {},
   "cell_type": "markdown",
   "metadata": {},
   "source": [
    "# ExecTimer"
   ]
  },
  {
   "cell_type": "code",
   "execution_count": 1,
   "metadata": {},
   "outputs": [
    {
     "data": {
      "text/plain": [
       "<module 'astroLuSt.monitoring.timers' from 'c:\\\\Users\\\\lukas\\\\Documents\\\\GitHub\\\\astroLuSt\\\\demos\\\\..\\\\astroLuSt\\\\monitoring\\\\timers.py'>"
      ]
     },
     "execution_count": 1,
     "metadata": {},
     "output_type": "execute_result"
    }
   ],
   "source": [
    "import numpy as np\n",
    "import time\n",
    "\n",
    "\n",
    "import sys\n",
    "sys.path.append('..')\n",
    "\n",
    "from astroLuSt.monitoring import timers\n",
    "\n",
    "import importlib\n",
    "importlib.reload(timers)"
   ]
  },
  {
   "attachments": {},
   "cell_type": "markdown",
   "metadata": {},
   "source": [
    "## Standard Usage"
   ]
  },
  {
   "cell_type": "code",
   "execution_count": 17,
   "metadata": {},
   "outputs": [
    {
     "name": "stdout",
     "output_type": "stream",
     "text": [
      "\n",
      "######################################################################\n",
      "INFO: Started Sup Task at 2023-03-17T15:07:06\n",
      "\n",
      "######################################################################\n",
      "INFO: Started Sub Task1 at 2023-03-17T15:07:06\n",
      "\n",
      "INFO: Finished Sub Task1 at 2023-03-17T15:07:08\n",
      "Required time: 0 days 00:00:02\n",
      "######################################################################\n",
      "\n",
      "######################################################################\n",
      "INFO: Started Sub Task2 at 2023-03-17T15:07:08\n",
      "\n",
      "INFO: Finished Sub Task2 at 2023-03-17T15:07:11\n",
      "Required time: 0 days 00:00:03\n",
      "######################################################################\n",
      "\n",
      "INFO: Finished Sup Task at 2023-03-17T15:07:11\n",
      "Required time: 0 days 00:00:05\n",
      "######################################################################\n",
      "INFO: Total estimated runtime for 4 repeats: 0 days 00:00:20\n"
     ]
    },
    {
     "data": {
      "text/html": [
       "<div>\n",
       "<style scoped>\n",
       "    .dataframe tbody tr th:only-of-type {\n",
       "        vertical-align: middle;\n",
       "    }\n",
       "\n",
       "    .dataframe tbody tr th {\n",
       "        vertical-align: top;\n",
       "    }\n",
       "\n",
       "    .dataframe thead th {\n",
       "        text-align: right;\n",
       "    }\n",
       "</style>\n",
       "<table border=\"1\" class=\"dataframe\">\n",
       "  <thead>\n",
       "    <tr style=\"text-align: right;\">\n",
       "      <th></th>\n",
       "      <th>Task</th>\n",
       "      <th>Start</th>\n",
       "      <th>End</th>\n",
       "      <th>Duration</th>\n",
       "      <th>Comment</th>\n",
       "    </tr>\n",
       "  </thead>\n",
       "  <tbody>\n",
       "    <tr>\n",
       "      <th>0</th>\n",
       "      <td>Sup Task</td>\n",
       "      <td>2023-03-17 15:07:06</td>\n",
       "      <td>2023-03-17T15:07:11</td>\n",
       "      <td>0 days 00:00:05</td>\n",
       "      <td>Global Task</td>\n",
       "    </tr>\n",
       "    <tr>\n",
       "      <th>1</th>\n",
       "      <td>Sub Task1</td>\n",
       "      <td>2023-03-17 15:07:06</td>\n",
       "      <td>2023-03-17T15:07:08</td>\n",
       "      <td>0 days 00:00:02</td>\n",
       "      <td></td>\n",
       "    </tr>\n",
       "    <tr>\n",
       "      <th>2</th>\n",
       "      <td>Sub Task2</td>\n",
       "      <td>2023-03-17 15:07:08</td>\n",
       "      <td>2023-03-17T15:07:11</td>\n",
       "      <td>0 days 00:00:03</td>\n",
       "      <td></td>\n",
       "    </tr>\n",
       "  </tbody>\n",
       "</table>\n",
       "</div>"
      ],
      "text/plain": [
       "        Task               Start                  End         Duration  \\\n",
       "0   Sup Task 2023-03-17 15:07:06  2023-03-17T15:07:11  0 days 00:00:05   \n",
       "1  Sub Task1 2023-03-17 15:07:06  2023-03-17T15:07:08  0 days 00:00:02   \n",
       "2  Sub Task2 2023-03-17 15:07:08  2023-03-17T15:07:11  0 days 00:00:03   \n",
       "\n",
       "       Comment  \n",
       "0  Global Task  \n",
       "1               \n",
       "2               "
      ]
     },
     "execution_count": 17,
     "metadata": {},
     "output_type": "execute_result"
    }
   ],
   "source": [
    "ET = timers.ExecTimer(verbose=1)\n",
    "\n",
    "ET.checkpoint_start('Sup Task', comment='Global Task')\n",
    "\n",
    "ET.checkpoint_start('Sub Task1')\n",
    "time.sleep(2)\n",
    "ET.checkpoint_end('Sub Task1')\n",
    "ET.checkpoint_start('Sub Task2')\n",
    "time.sleep(3)\n",
    "ET.checkpoint_end('Sub Task2')\n",
    "\n",
    "ET.checkpoint_end('Sup Task')\n",
    "\n",
    "ET.estimate_runtime('Sup Task', nrepeats=4, ndone=1)\n",
    "\n",
    "ET.df_protocoll\n"
   ]
  },
  {
   "attachments": {},
   "cell_type": "markdown",
   "metadata": {},
   "source": [
    "## Usage to have an up-to-date estimate of runtimes"
   ]
  },
  {
   "cell_type": "code",
   "execution_count": 16,
   "metadata": {},
   "outputs": [
    {
     "name": "stdout",
     "output_type": "stream",
     "text": [
      "INFO: Total estimated runtime for 5 repeats: 0 days 00:00:00\n",
      "INFO: Total estimated runtime for 5 repeats: 0 days 00:00:02.500000\n",
      "INFO: Total estimated runtime for 5 repeats: 0 days 00:00:01.666666666\n",
      "INFO: Total estimated runtime for 5 repeats: 0 days 00:00:02.500000\n",
      "INFO: Total estimated runtime for 5 repeats: 0 days 00:00:03\n"
     ]
    },
    {
     "data": {
      "text/html": [
       "<div>\n",
       "<style scoped>\n",
       "    .dataframe tbody tr th:only-of-type {\n",
       "        vertical-align: middle;\n",
       "    }\n",
       "\n",
       "    .dataframe tbody tr th {\n",
       "        vertical-align: top;\n",
       "    }\n",
       "\n",
       "    .dataframe thead th {\n",
       "        text-align: right;\n",
       "    }\n",
       "</style>\n",
       "<table border=\"1\" class=\"dataframe\">\n",
       "  <thead>\n",
       "    <tr style=\"text-align: right;\">\n",
       "      <th></th>\n",
       "      <th>Task</th>\n",
       "      <th>Start</th>\n",
       "      <th>End</th>\n",
       "      <th>Duration</th>\n",
       "      <th>Comment</th>\n",
       "    </tr>\n",
       "  </thead>\n",
       "  <tbody>\n",
       "    <tr>\n",
       "      <th>0</th>\n",
       "      <td>Global Task</td>\n",
       "      <td>2023-03-17 15:06:43</td>\n",
       "      <td>2023-03-17T15:06:46</td>\n",
       "      <td>0 days 00:00:03</td>\n",
       "      <td></td>\n",
       "    </tr>\n",
       "    <tr>\n",
       "      <th>1</th>\n",
       "      <td>Subtask0</td>\n",
       "      <td>2023-03-17 15:06:43</td>\n",
       "      <td>2023-03-17T15:06:43</td>\n",
       "      <td>0 days 00:00:00</td>\n",
       "      <td></td>\n",
       "    </tr>\n",
       "    <tr>\n",
       "      <th>2</th>\n",
       "      <td>Subtask1</td>\n",
       "      <td>2023-03-17 15:06:43</td>\n",
       "      <td>2023-03-17T15:06:44</td>\n",
       "      <td>0 days 00:00:01</td>\n",
       "      <td></td>\n",
       "    </tr>\n",
       "    <tr>\n",
       "      <th>3</th>\n",
       "      <td>Subtask2</td>\n",
       "      <td>2023-03-17 15:06:44</td>\n",
       "      <td>2023-03-17T15:06:44</td>\n",
       "      <td>0 days 00:00:00</td>\n",
       "      <td></td>\n",
       "    </tr>\n",
       "    <tr>\n",
       "      <th>4</th>\n",
       "      <td>Subtask3</td>\n",
       "      <td>2023-03-17 15:06:44</td>\n",
       "      <td>2023-03-17T15:06:45</td>\n",
       "      <td>0 days 00:00:01</td>\n",
       "      <td></td>\n",
       "    </tr>\n",
       "    <tr>\n",
       "      <th>5</th>\n",
       "      <td>Subtask4</td>\n",
       "      <td>2023-03-17 15:06:45</td>\n",
       "      <td>2023-03-17T15:06:46</td>\n",
       "      <td>0 days 00:00:01</td>\n",
       "      <td></td>\n",
       "    </tr>\n",
       "  </tbody>\n",
       "</table>\n",
       "</div>"
      ],
      "text/plain": [
       "          Task               Start                  End         Duration  \\\n",
       "0  Global Task 2023-03-17 15:06:43  2023-03-17T15:06:46  0 days 00:00:03   \n",
       "1     Subtask0 2023-03-17 15:06:43  2023-03-17T15:06:43  0 days 00:00:00   \n",
       "2     Subtask1 2023-03-17 15:06:43  2023-03-17T15:06:44  0 days 00:00:01   \n",
       "3     Subtask2 2023-03-17 15:06:44  2023-03-17T15:06:44  0 days 00:00:00   \n",
       "4     Subtask3 2023-03-17 15:06:44  2023-03-17T15:06:45  0 days 00:00:01   \n",
       "5     Subtask4 2023-03-17 15:06:45  2023-03-17T15:06:46  0 days 00:00:01   \n",
       "\n",
       "  Comment  \n",
       "0          \n",
       "1          \n",
       "2          \n",
       "3          \n",
       "4          \n",
       "5          "
      ]
     },
     "execution_count": 16,
     "metadata": {},
     "output_type": "execute_result"
    }
   ],
   "source": [
    "importlib.reload(timers)\n",
    "\n",
    "#initialize the timer\n",
    "ET = timers.ExecTimer(verbose=0)\n",
    "\n",
    "repeats = 5 #number of times to repeat the loop\n",
    "\n",
    "\n",
    "#Execute some loop\n",
    "ET.checkpoint_start('Global Task')  #to monitor total (actual) duration\n",
    "for idx in range(repeats):\n",
    "\n",
    "    #monitor duration of each loop-execution\n",
    "    ET.checkpoint_start(f'Subtask{idx}')\n",
    "\n",
    "    #generate random sleeptime (should average out to be 1)\n",
    "    time.sleep(np.random.normal(1, 0.5, size=1)[0])\n",
    "    \n",
    "    ET.checkpoint_end(f'Subtask{idx}')\n",
    "\n",
    "    #estimate the runtime from the current point of view\n",
    "    ET.estimate_runtime(r'Subtask', repeats, idx+1)\n",
    "\n",
    "ET.checkpoint_end('Global Task')\n",
    "\n",
    "ET.df_protocoll"
   ]
  }
 ],
 "metadata": {
  "kernelspec": {
   "display_name": "astrolust",
   "language": "python",
   "name": "python3"
  },
  "language_info": {
   "codemirror_mode": {
    "name": "ipython",
    "version": 3
   },
   "file_extension": ".py",
   "mimetype": "text/x-python",
   "name": "python",
   "nbconvert_exporter": "python",
   "pygments_lexer": "ipython3",
   "version": "3.10.8"
  },
  "orig_nbformat": 4
 },
 "nbformat": 4,
 "nbformat_minor": 2
}
