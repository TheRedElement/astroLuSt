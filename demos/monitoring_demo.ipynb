{
 "cells": [
  {
   "attachments": {},
   "cell_type": "markdown",
   "metadata": {},
   "source": [
    "# ExecTimer"
   ]
  },
  {
   "cell_type": "code",
   "execution_count": 1,
   "metadata": {},
   "outputs": [],
   "source": [
    "import numpy as np\n",
    "import time\n",
    "\n",
    "\n",
    "import sys\n",
    "sys.path.append('..')\n",
    "\n",
    "from astroLuSt.monitoring import timers, errorlogging\n",
    "\n",
    "import importlib\n",
    "# importlib.reload(errorlogging)"
   ]
  },
  {
   "attachments": {},
   "cell_type": "markdown",
   "metadata": {},
   "source": [
    "## Standard Usage"
   ]
  },
  {
   "cell_type": "code",
   "execution_count": 3,
   "metadata": {},
   "outputs": [
    {
     "name": "stdout",
     "output_type": "stream",
     "text": [
      "\n",
      "######################################################################\n",
      "INFO: Started Sup Task at 2023-06-13T14:49:58\n",
      "\n",
      "######################################################################\n",
      "INFO: Started Sub Task1 at 2023-06-13T14:49:58\n",
      "\n",
      "INFO: Finished Sub Task1 at 2023-06-13T14:50:00\n",
      "Required time: 0 days 00:00:02\n",
      "######################################################################\n",
      "\n",
      "######################################################################\n",
      "INFO: Started Sub Task2 at 2023-06-13T14:50:00\n",
      "\n",
      "INFO: Finished Sub Task2 at 2023-06-13T14:50:03\n",
      "Required time: 0 days 00:00:03\n",
      "######################################################################\n",
      "\n",
      "INFO: Finished Sup Task at 2023-06-13T14:50:03\n",
      "Required time: 0 days 00:00:05\n",
      "######################################################################\n",
      "INFO: Total estimated runtime for 4 repeats: 0 days 00:00:20\n"
     ]
    },
    {
     "data": {
      "text/html": [
       "<div>\n",
       "<style scoped>\n",
       "    .dataframe tbody tr th:only-of-type {\n",
       "        vertical-align: middle;\n",
       "    }\n",
       "\n",
       "    .dataframe tbody tr th {\n",
       "        vertical-align: top;\n",
       "    }\n",
       "\n",
       "    .dataframe thead th {\n",
       "        text-align: right;\n",
       "    }\n",
       "</style>\n",
       "<table border=\"1\" class=\"dataframe\">\n",
       "  <thead>\n",
       "    <tr style=\"text-align: right;\">\n",
       "      <th></th>\n",
       "      <th>Task</th>\n",
       "      <th>Start</th>\n",
       "      <th>End</th>\n",
       "      <th>Duration</th>\n",
       "      <th>Start_Seconds</th>\n",
       "      <th>End_Seconds</th>\n",
       "      <th>Duration_Seconds</th>\n",
       "      <th>Comment_Start</th>\n",
       "      <th>Comment_End</th>\n",
       "    </tr>\n",
       "  </thead>\n",
       "  <tbody>\n",
       "    <tr>\n",
       "      <th>0</th>\n",
       "      <td>Sup Task</td>\n",
       "      <td>2023-06-13 14:49:58</td>\n",
       "      <td>2023-06-13 14:50:03</td>\n",
       "      <td>0 days 00:00:05</td>\n",
       "      <td>1.686668e+09</td>\n",
       "      <td>1.686668e+09</td>\n",
       "      <td>5.027023</td>\n",
       "      <td>Global Task</td>\n",
       "      <td></td>\n",
       "    </tr>\n",
       "    <tr>\n",
       "      <th>1</th>\n",
       "      <td>Sub Task1</td>\n",
       "      <td>2023-06-13 14:49:58</td>\n",
       "      <td>2023-06-13 14:50:00</td>\n",
       "      <td>0 days 00:00:02</td>\n",
       "      <td>1.686668e+09</td>\n",
       "      <td>1.686668e+09</td>\n",
       "      <td>2.006435</td>\n",
       "      <td></td>\n",
       "      <td></td>\n",
       "    </tr>\n",
       "    <tr>\n",
       "      <th>2</th>\n",
       "      <td>Sub Task2</td>\n",
       "      <td>2023-06-13 14:50:00</td>\n",
       "      <td>2023-06-13 14:50:03</td>\n",
       "      <td>0 days 00:00:03</td>\n",
       "      <td>1.686668e+09</td>\n",
       "      <td>1.686668e+09</td>\n",
       "      <td>3.014754</td>\n",
       "      <td></td>\n",
       "      <td>TEST</td>\n",
       "    </tr>\n",
       "  </tbody>\n",
       "</table>\n",
       "</div>"
      ],
      "text/plain": [
       "        Task               Start                  End         Duration  \\\n",
       "0   Sup Task 2023-06-13 14:49:58  2023-06-13 14:50:03  0 days 00:00:05   \n",
       "1  Sub Task1 2023-06-13 14:49:58  2023-06-13 14:50:00  0 days 00:00:02   \n",
       "2  Sub Task2 2023-06-13 14:50:00  2023-06-13 14:50:03  0 days 00:00:03   \n",
       "\n",
       "   Start_Seconds   End_Seconds  Duration_Seconds Comment_Start Comment_End  \n",
       "0   1.686668e+09  1.686668e+09          5.027023   Global Task              \n",
       "1   1.686668e+09  1.686668e+09          2.006435                            \n",
       "2   1.686668e+09  1.686668e+09          3.014754                      TEST  "
      ]
     },
     "execution_count": 3,
     "metadata": {},
     "output_type": "execute_result"
    }
   ],
   "source": [
    "\n",
    "\n",
    "importlib.reload(timers)\n",
    "\n",
    "ET = timers.ExecTimer(verbose=1)\n",
    "\n",
    "ET.checkpoint_start('Sup Task', comment='Global Task')\n",
    "\n",
    "ET.checkpoint_start('Sub Task1')\n",
    "time.sleep(2)\n",
    "ET.checkpoint_end('Sub Task1')\n",
    "ET.checkpoint_start('Sub Task2')\n",
    "time.sleep(3)\n",
    "ET.checkpoint_end('Sub Task2', comment='TEST')\n",
    "\n",
    "ET.checkpoint_end('Sup Task')\n",
    "\n",
    "ET.estimate_runtime('Sup Task', nrepeats=4, ndone=1)\n",
    "\n",
    "ET.df_protocoll\n"
   ]
  },
  {
   "attachments": {},
   "cell_type": "markdown",
   "metadata": {},
   "source": [
    "## Usage to have an up-to-date estimate of runtimes"
   ]
  },
  {
   "cell_type": "code",
   "execution_count": null,
   "metadata": {},
   "outputs": [],
   "source": [
    "importlib.reload(timers)\n",
    "\n",
    "#initialize the timer\n",
    "ET = timers.ExecTimer(verbose=0)\n",
    "\n",
    "repeats = 5 #number of times to repeat the loop\n",
    "\n",
    "\n",
    "#Execute some loop\n",
    "ET.checkpoint_start('Global Task')  #to monitor total (actual) duration\n",
    "for idx in range(repeats):\n",
    "\n",
    "    #monitor duration of each loop-execution\n",
    "    ET.checkpoint_start(f'Subtask{idx}')\n",
    "\n",
    "    #generate random sleeptime (should average out to be 1)\n",
    "    time.sleep(np.random.normal(1, 0.5, size=1)[0])\n",
    "    \n",
    "    ET.checkpoint_end(f'Subtask{idx}')\n",
    "\n",
    "    #estimate the runtime from the current point of view\n",
    "    ET.estimate_runtime(r'Subtask', repeats, idx+1)\n",
    "\n",
    "ET.checkpoint_end('Global Task')\n",
    "\n",
    "ET.df_protocoll"
   ]
  }
 ],
 "metadata": {
  "kernelspec": {
   "display_name": "astrolust",
   "language": "python",
   "name": "python3"
  },
  "language_info": {
   "codemirror_mode": {
    "name": "ipython",
    "version": 3
   },
   "file_extension": ".py",
   "mimetype": "text/x-python",
   "name": "python",
   "nbconvert_exporter": "python",
   "pygments_lexer": "ipython3",
   "version": "3.10.8"
  },
  "orig_nbformat": 4
 },
 "nbformat": 4,
 "nbformat_minor": 2
}
