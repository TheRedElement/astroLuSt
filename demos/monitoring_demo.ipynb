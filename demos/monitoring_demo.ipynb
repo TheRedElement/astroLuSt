{
 "cells": [
  {
   "attachments": {},
   "cell_type": "markdown",
   "metadata": {},
   "source": [
    "# ExecTimer"
   ]
  },
  {
   "cell_type": "code",
   "execution_count": 10,
   "metadata": {},
   "outputs": [
    {
     "data": {
      "text/plain": [
       "<module 'astroLuSt.monitoring.timers' from 'c:\\\\Users\\\\lukas\\\\Documents\\\\GitHub\\\\astroLuSt\\\\demos\\\\..\\\\astroLuSt\\\\monitoring\\\\timers.py'>"
      ]
     },
     "execution_count": 10,
     "metadata": {},
     "output_type": "execute_result"
    }
   ],
   "source": [
    "import time\n",
    "\n",
    "import sys\n",
    "sys.path.append('..')\n",
    "\n",
    "from astroLuSt.monitoring import timers\n",
    "\n",
    "import importlib\n",
    "importlib.reload(timers)"
   ]
  },
  {
   "cell_type": "code",
   "execution_count": 11,
   "metadata": {},
   "outputs": [
    {
     "name": "stdout",
     "output_type": "stream",
     "text": [
      "\n",
      "######################################################################\n",
      "INFO: Started Sup Task at 2023-03-04T14:49:57\n",
      "\n",
      "######################################################################\n",
      "INFO: Started Sub Task1 at 2023-03-04T14:49:57\n",
      "\n",
      "INFO: Finished Sub Task1 at 2023-03-04T14:49:59\n",
      "Required time: 0 days 00:00:02\n",
      "######################################################################\n",
      "\n",
      "######################################################################\n",
      "INFO: Started Sub Task2 at 2023-03-04T14:49:59\n",
      "\n",
      "INFO: Finished Sub Task2 at 2023-03-04T14:50:02\n",
      "Required time: 0 days 00:00:03\n",
      "######################################################################\n",
      "\n",
      "INFO: Finished Sup Task at 2023-03-04T14:50:02\n",
      "Required time: 0 days 00:00:05\n",
      "######################################################################\n",
      "        Task               Start                  End         Duration  \\\n",
      "0   Sup Task 2023-03-04 14:49:57  2023-03-04T14:50:02  0 days 00:00:05   \n",
      "1  Sub Task1 2023-03-04 14:49:57  2023-03-04T14:49:59  0 days 00:00:02   \n",
      "2  Sub Task2 2023-03-04 14:49:59  2023-03-04T14:50:02  0 days 00:00:03   \n",
      "\n",
      "       Comment  \n",
      "0  Global Task  \n",
      "1               \n",
      "2               \n"
     ]
    }
   ],
   "source": [
    "ET = timers.ExecTimer(verbose=1)\n",
    "\n",
    "ET.checkpoint_start('Sup Task', comment='Global Task')\n",
    "\n",
    "ET.checkpoint_start('Sub Task1')\n",
    "time.sleep(2)\n",
    "ET.checkpoint_end('Sub Task1')\n",
    "ET.checkpoint_start('Sub Task2')\n",
    "time.sleep(3)\n",
    "ET.checkpoint_end('Sub Task2')\n",
    "\n",
    "ET.checkpoint_end('Sup Task')\n",
    "\n",
    "print(ET.df_protocoll)\n"
   ]
  }
 ],
 "metadata": {
  "kernelspec": {
   "display_name": "astrolust",
   "language": "python",
   "name": "python3"
  },
  "language_info": {
   "codemirror_mode": {
    "name": "ipython",
    "version": 3
   },
   "file_extension": ".py",
   "mimetype": "text/x-python",
   "name": "python",
   "nbconvert_exporter": "python",
   "pygments_lexer": "ipython3",
   "version": "3.10.8"
  },
  "orig_nbformat": 4
 },
 "nbformat": 4,
 "nbformat_minor": 2
}
