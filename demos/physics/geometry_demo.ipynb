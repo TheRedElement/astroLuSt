{
 "cells": [
  {
   "cell_type": "code",
   "execution_count": 4,
   "metadata": {},
   "outputs": [
    {
     "data": {
      "text/plain": [
       "<module 'astroLuSt.physics.geometry' from '/home/lukas/github/astroLuSt/demos/physics/../../astroLuSt/physics/geometry.py'>"
      ]
     },
     "execution_count": 4,
     "metadata": {},
     "output_type": "execute_result"
    }
   ],
   "source": [
    "import importlib\n",
    "import numpy as np\n",
    "import sys\n",
    "sys.path.append('../../')\n",
    "\n",
    "\n",
    "from astroLuSt.physics import geometry as alphge\n",
    "\n",
    "importlib.reload(alphge)\n"
   ]
  },
  {
   "cell_type": "markdown",
   "metadata": {},
   "source": [
    "# Angular Distance"
   ]
  },
  {
   "cell_type": "code",
   "execution_count": 9,
   "metadata": {},
   "outputs": [
    {
     "name": "stdout",
     "output_type": "stream",
     "text": [
      "[1.17261019 2.98380193 2.10776794 2.12881005 0.5910143 ]\n"
     ]
    }
   ],
   "source": [
    "ra = np.random.uniform(0, 2*np.pi, size=(5,2))\n",
    "dec = np.random.uniform(-np.pi/2, np.pi/2, size=(5,2))\n",
    "\n",
    "theta = alphge.angular_distance(ra, dec, approx=None)\n",
    "print(theta)"
   ]
  }
 ],
 "metadata": {
  "kernelspec": {
   "display_name": "astroLuSt",
   "language": "python",
   "name": "python3"
  },
  "language_info": {
   "codemirror_mode": {
    "name": "ipython",
    "version": 3
   },
   "file_extension": ".py",
   "mimetype": "text/x-python",
   "name": "python",
   "nbconvert_exporter": "python",
   "pygments_lexer": "ipython3",
   "version": "3.10.12"
  }
 },
 "nbformat": 4,
 "nbformat_minor": 2
}
