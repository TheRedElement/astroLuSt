{
 "cells": [
  {
   "cell_type": "code",
   "execution_count": 1,
   "metadata": {},
   "outputs": [
    {
     "data": {
      "text/plain": [
       "<module 'astroLuSt.synthetics.images' from 'c:\\\\Users\\\\lukas\\\\Documents\\\\GitHub\\\\astroLuSt\\\\demos\\\\..\\\\astroLuSt\\\\synthetics\\\\images.py'>"
      ]
     },
     "execution_count": 1,
     "metadata": {},
     "output_type": "execute_result"
    }
   ],
   "source": [
    "import matplotlib.pyplot as plt\n",
    "import numpy as np\n",
    "\n",
    "import sys\n",
    "sys.path.append('..')\n",
    "import importlib\n",
    "\n",
    "from astroLuSt.physics import asteroseismology\n",
    "from astroLuSt.physics import photometry as alpp\n",
    "from astroLuSt.synthetics import images as alsi\n",
    "\n",
    "importlib.reload(asteroseismology)\n",
    "importlib.reload(alpp)\n",
    "importlib.reload(alsi)"
   ]
  },
  {
   "attachments": {},
   "cell_type": "markdown",
   "metadata": {},
   "source": [
    "# Magnitudes and Fluxes"
   ]
  },
  {
   "cell_type": "code",
   "execution_count": 2,
   "metadata": {},
   "outputs": [],
   "source": [
    "m = 10\n",
    "m_ref = 5\n",
    "f_ref = 2\n",
    "d = 20 #pc\n",
    "plx = 1/d #arcsec"
   ]
  },
  {
   "attachments": {},
   "cell_type": "markdown",
   "metadata": {},
   "source": [
    "## Converting Magnitudes and Fluxes"
   ]
  },
  {
   "cell_type": "code",
   "execution_count": 3,
   "metadata": {},
   "outputs": [
    {
     "name": "stdout",
     "output_type": "stream",
     "text": [
      "Flux from mags: 0.05\n",
      "Mag from fluxes: 9.005149978319906 mag\n"
     ]
    }
   ],
   "source": [
    "f = alpp.mags2fluxes(m=m, m_ref=m_ref, f_ref=5)\n",
    "print(f'Flux from mags: {f}')\n",
    "m = alpp.fluxes2mags(f=f, f_ref=f_ref, m_ref=m_ref)\n",
    "print(f'Mag from fluxes: {m} mag')"
   ]
  },
  {
   "attachments": {},
   "cell_type": "markdown",
   "metadata": {},
   "source": [
    "## Distance Modulus"
   ]
  },
  {
   "cell_type": "code",
   "execution_count": 4,
   "metadata": {},
   "outputs": [
    {
     "name": "stdout",
     "output_type": "stream",
     "text": [
      "DistanceModule(\n",
      "    m=9.005149978319906, M=7.5,\n",
      "    d=20, plx=0.05,\n",
      ")\n"
     ]
    }
   ],
   "source": [
    "DM = alpp.DistanceModule(m=m, M=None, d=d, plx=None)\n",
    "\n",
    "print(DM)\n",
    "\n"
   ]
  },
  {
   "attachments": {},
   "cell_type": "markdown",
   "metadata": {},
   "source": [
    "## Converting to Wesenheit Magnitude"
   ]
  },
  {
   "cell_type": "code",
   "execution_count": 5,
   "metadata": {},
   "outputs": [
    {
     "name": "stdout",
     "output_type": "stream",
     "text": [
      "Wesenheit Magnitude: 7.5 mag\n"
     ]
    }
   ],
   "source": [
    "W = alpp.wesenheit_magnitude(M=DM.M, CI=0.3, R=0)\n",
    "print(f'Wesenheit Magnitude: {W} mag')"
   ]
  },
  {
   "attachments": {},
   "cell_type": "markdown",
   "metadata": {},
   "source": [
    "## Adding Magnitudes and Estimating Target Star Contribution"
   ]
  },
  {
   "attachments": {},
   "cell_type": "markdown",
   "metadata": {},
   "source": [
    "Generate some \"stars\" on a \"sky background\""
   ]
  },
  {
   "cell_type": "code",
   "execution_count": 43,
   "metadata": {},
   "outputs": [
    {
     "name": "stdout",
     "output_type": "stream",
     "text": [
      "TPF(\n",
      "    size          =(100, 100),\n",
      "    store_stars   =True,\n",
      "    verbose       =3,\n",
      ")\n",
      "INFO(TPF.add_stars()): Generated Parameters:pos:[[10, 24], [66, 71], [62, 65], [25, 74], [17, 7], [78, 29], [2, 93], [13, 62], [29, 20], [91, 58], [9, 16], [94, 38], [7, 51], [94, 32], [89, 27], [86, 52], [86, 12], [58, 80], [80, 15], [48, 81]], f:[12  6 25 64 61 82 39 71 42 11 54 28 45 42 43 80  0  9 10 52], aperture:[2 8 8 2 5 6 3 6 6 7 1 2 2 8 8 6 1 3 6 4]\n",
      "INFO(TPF.add_stars()): Generated Parameters:pos:[[90, 30]], f:[10285], aperture:[19]\n",
      "Estimated Aperture: 17\n",
      "[[array([10, 24]), 12, -2.6979531151190623, 2], [array([66, 71]), 6, -1.9453781259591092, 8], [array([62, 65]), 25, -3.494850021680094, 8], [array([25, 74]), 64, -4.515449934959718, 2], [array([17,  7]), 61, -4.463324587526918, 5], [array([78, 29]), 82, -4.784534630959292, 6], [array([ 2, 93]), 39, -3.977661517566248, 3], [array([13, 62]), 71, -4.628145871797688, 6], [array([29, 20]), 42, -4.058123225994751, 6], [array([91, 58]), 11, -2.603481712895563, 7], [array([ 9, 16]), 54, -4.330984399557422, 1], [array([94, 38]), 28, -3.617895078355548, 2], [array([ 7, 51]), 45, -4.133031284438359, 2], [array([94, 32]), 42, -4.058123225994751, 8], [array([89, 27]), 43, -4.083671138948966, 8], [array([86, 52]), 80, -4.7577249674798585, 6], [array([86, 12]), 0, inf, 1], [array([58, 80]), 9, -2.385606273598312, 3], [array([80, 15]), 10, -2.5, 6], [array([48, 81]), 52, -4.290008359086998, 4], [array([90, 30]), 10285, -10.030510740076856, 19]]\n"
     ]
    },
    {
     "name": "stderr",
     "output_type": "stream",
     "text": [
      "c:\\Users\\lukas\\Documents\\GitHub\\astroLuSt\\demos\\..\\astroLuSt\\physics\\photometry.py:298: RuntimeWarning: divide by zero encountered in log10\n",
      "  m = -2.5*np.log10(f/f_ref) + m_ref\n",
      "c:\\Users\\lukas\\Documents\\GitHub\\astroLuSt\\demos\\..\\astroLuSt\\synthetics\\images.py:348: FutureWarning: elementwise comparison failed; returning scalar instead, but in the future will perform elementwise comparison\n",
      "  return\n"
     ]
    },
    {
     "data": {
      "image/png": "[encoded data removed]",
      "text/plain": [
       "<Figure size 640x480 with 2 Axes>"
      ]
     },
     "metadata": {},
     "output_type": "display_data"
    }
   ],
   "source": [
    "importlib.reload(alsi)\n",
    "\n",
    "\n",
    "TPF = alsi.TPF(\n",
    "    size=100,\n",
    "    store_stars=True,\n",
    "    verbose=3\n",
    ")\n",
    "print(TPF)\n",
    "\n",
    "\n",
    "TPF.add_stars(random={'nstars':20})\n",
    "TPF.add_stars(random={'nstars':1, 'fmin':10000,'fmax':11000, 'apmin':4, 'apmax':20})\n",
    "# TPF.add_stars(random=False, pos=np.array([[50,50]]), f=[1000], aperture=[10])\n",
    "# TPF.add_custom(200*np.linspace(0,np.ones((100)),100))\n",
    "TPF.add_custom(trend='lineary', amplitude=200)\n",
    "TPF.add_noise(amp=1E-3)\n",
    "\n",
    "fig, axs = TPF.plot_result(plot_apertures=[-1])\n",
    "try:\n",
    "    print(f'Estimated Aperture: {TPF.aperture_from_mask(TPF.stars[-1,:,:,1]):.0f}')\n",
    "except:\n",
    "    pass\n",
    "print(TPF.starparams)"
   ]
  },
  {
   "cell_type": "code",
   "execution_count": 6,
   "metadata": {},
   "outputs": [
    {
     "name": "stderr",
     "output_type": "stream",
     "text": [
      "C:\\Users\\lukas\\AppData\\Local\\Temp\\ipykernel_52888\\3440036888.py:4: DeprecationWarning: This function is deprecated. Please call randint(0, 49 + 1) instead\n",
      "  poss = np.random.random_integers(0, npixels-1, size=(nstars,2))\n",
      "C:\\Users\\lukas\\AppData\\Local\\Temp\\ipykernel_52888\\3440036888.py:5: DeprecationWarning: This function is deprecated. Please call randint(-5.0, 5.0 + 1) instead\n",
      "  mags = np.random.random_integers(0-mag_range/2, 0+mag_range/2, size=(nstars,1))\n"
     ]
    },
    {
     "data": {
      "image/png": "[encoded data removed]",
      "text/plain": [
       "<Figure size 640x480 with 2 Axes>"
      ]
     },
     "metadata": {},
     "output_type": "display_data"
    }
   ],
   "source": [
    "nstars = 100\n",
    "npixels = 50\n",
    "mag_range = 10\n",
    "poss = np.random.random_integers(0, npixels-1, size=(nstars,2))\n",
    "mags = np.random.random_integers(0-mag_range/2, 0+mag_range/2, size=(nstars,1))\n",
    "stars = np.append(poss, mags, axis=1)\n",
    "\n",
    "#generate target star\n",
    "star_targ = np.array([npixels//2,npixels//2, -10])\n",
    "\n",
    "#sky background\n",
    "obs = np.zeros((npixels,npixels)) + 20\n",
    "\n",
    "#add stars of different magnitude\n",
    "obs[stars[:,0],stars[:,1]] = stars[:,2].flatten()\n",
    "\n",
    "#add target star\n",
    "obs[star_targ[0], star_targ[1]] = star_targ[2]\n",
    "\n",
    "\n",
    "\n",
    "fig = plt.figure()\n",
    "ax1 = fig.add_subplot(111)\n",
    "mesh = ax1.pcolormesh(obs, cmap='viridis_r')\n",
    "ax1.scatter(*star_targ[:2]+.5, marker='x', c='r', label='Target')\n",
    "\n",
    "ax1.set_xlabel('Pixel')\n",
    "ax1.set_ylabel('Pixel')\n",
    "\n",
    "cbar = fig.colorbar(mesh, ax=ax1)\n",
    "cbar.ax.invert_yaxis()\n",
    "cbar.ax.set_ylim(0-mag_range/2-1)\n",
    "cbar.set_label('Magnitude [mag]')\n",
    "\n",
    "ax1.legend()\n",
    "\n",
    "plt.show()"
   ]
  },
  {
   "attachments": {},
   "cell_type": "markdown",
   "metadata": {},
   "source": [
    "Calculate total magnitude of generated (contaminant) stars, weighted by distance to target star."
   ]
  },
  {
   "cell_type": "code",
   "execution_count": 236,
   "metadata": {},
   "outputs": [
    {
     "name": "stdout",
     "output_type": "stream",
     "text": [
      "Total magnitude of contaminants: -7.21689 mag\n"
     ]
    }
   ],
   "source": [
    "#calculate distances\n",
    "dists = np.sqrt(np.sum((stars[:,:2] - star_targ[:2])**2, axis=1))\n",
    "w = dists/dists.max()   #normalize distances to a max of\n",
    "\n",
    "m_tot = alpp.mags_sum(m=stars[:,2], w=w)\n",
    "print(f'Total magnitude of contaminants: {m_tot:.5f} mag')\n"
   ]
  },
  {
   "attachments": {},
   "cell_type": "markdown",
   "metadata": {},
   "source": [
    "Calculate fractional contribution of the target star (single target)"
   ]
  },
  {
   "cell_type": "code",
   "execution_count": 237,
   "metadata": {},
   "outputs": [
    {
     "name": "stdout",
     "output_type": "stream",
     "text": [
      "Contribution of Target (precalculated): 0.928\n",
      "Contribution of Target (on the fly):    0.928\n"
     ]
    }
   ],
   "source": [
    "\n",
    "m_cont_pre = alpp.mags_contribution(m=star_targ[2], m_cont=m_tot)           #using calculated total magnitude\n",
    "m_cont_fly = alpp.mags_contribution(m=star_targ[2], m_cont=stars[:,2], w=w) #calculate total magnitude on the fly\n",
    "\n",
    "print(f'Contribution of Target (precalculated): {m_cont_pre:.3f}')\n",
    "print(f'Contribution of Target (on the fly):    {m_cont_fly:.3f}')\n"
   ]
  },
  {
   "attachments": {},
   "cell_type": "markdown",
   "metadata": {},
   "source": [
    "Calculate fractional contribution of the target stars (multiple)"
   ]
  },
  {
   "cell_type": "code",
   "execution_count": 238,
   "metadata": {},
   "outputs": [
    {
     "name": "stdout",
     "output_type": "stream",
     "text": [
      "Contribution of Target (on the fly): [0.92846485 0.11488086]\n"
     ]
    }
   ],
   "source": [
    "\n",
    "multi = np.array([star_targ[2], star_targ[2]/2])\n",
    "\n",
    "m_cont_fly = alpp.mags_contribution(m=multi, m_cont=stars[:,2], w=w) #calculate total magnitude on the fly\n",
    "\n",
    "print(f'Contribution of Target (on the fly): {m_cont_fly}')\n"
   ]
  },
  {
   "attachments": {},
   "cell_type": "markdown",
   "metadata": {},
   "source": [
    "# Asteroseismic Scaling Relations\n",
    "\n",
    "See for example [Gaulme et al., (2016)](https://ui.adsabs.harvard.edu/abs/2016ApJ...832..121G/abstract) and references therein."
   ]
  },
  {
   "cell_type": "code",
   "execution_count": 239,
   "metadata": {},
   "outputs": [
    {
     "name": "stdout",
     "output_type": "stream",
     "text": [
      "ScalingRelations(\n",
      "    nu_max=array([3100, 1573, 1354]), \n",
      "    delta_nu=array([135.2 ,  80.62,  73.22]), \n",
      "    t_eff=array([5777, 6433, 5645]), \n",
      "    e_nu_max=array([nan, 11., 30.]), e_delta_nu=array([ nan, 1.88, 2.13]), e_t_eff=array([nan, 80., 80.]), \n",
      "    nu_max_sun=3100, delta_nu_sun=135.2, t_eff_sun=5777, logg_sun=5777, \n",
      "    zeta_corr=False, \n",
      ")\n"
     ]
    },
    {
     "data": {
      "text/html": [
       "<div>\n",
       "<style scoped>\n",
       "    .dataframe tbody tr th:only-of-type {\n",
       "        vertical-align: middle;\n",
       "    }\n",
       "\n",
       "    .dataframe tbody tr th {\n",
       "        vertical-align: top;\n",
       "    }\n",
       "\n",
       "    .dataframe thead th {\n",
       "        text-align: right;\n",
       "    }\n",
       "</style>\n",
       "<table border=\"1\" class=\"dataframe\">\n",
       "  <thead>\n",
       "    <tr style=\"text-align: right;\">\n",
       "      <th></th>\n",
       "      <th>nu_max</th>\n",
       "      <th>e_nu_max</th>\n",
       "      <th>delta_nu</th>\n",
       "      <th>e_delta_nu</th>\n",
       "      <th>t_eff</th>\n",
       "      <th>e_t_eff</th>\n",
       "      <th>zeta_corr</th>\n",
       "      <th>mass_seism</th>\n",
       "      <th>e_mass_seism</th>\n",
       "      <th>radius_seism</th>\n",
       "      <th>e_radius_seism</th>\n",
       "      <th>luminosity_seism</th>\n",
       "      <th>e_luminosity_seism</th>\n",
       "      <th>logg_seism</th>\n",
       "      <th>e_logg_seism</th>\n",
       "    </tr>\n",
       "  </thead>\n",
       "  <tbody>\n",
       "    <tr>\n",
       "      <th>0</th>\n",
       "      <td>3100.0</td>\n",
       "      <td>NaN</td>\n",
       "      <td>135.20</td>\n",
       "      <td>NaN</td>\n",
       "      <td>5777.0</td>\n",
       "      <td>NaN</td>\n",
       "      <td>0.0</td>\n",
       "      <td>1.000000</td>\n",
       "      <td>NaN</td>\n",
       "      <td>1.000000</td>\n",
       "      <td>NaN</td>\n",
       "      <td>1.000000</td>\n",
       "      <td>NaN</td>\n",
       "      <td>1.000000</td>\n",
       "      <td>NaN</td>\n",
       "    </tr>\n",
       "    <tr>\n",
       "      <th>1</th>\n",
       "      <td>1573.0</td>\n",
       "      <td>11.0</td>\n",
       "      <td>80.62</td>\n",
       "      <td>1.88</td>\n",
       "      <td>6433.0</td>\n",
       "      <td>80.0</td>\n",
       "      <td>0.0</td>\n",
       "      <td>1.214237</td>\n",
       "      <td>0.118279</td>\n",
       "      <td>1.505880</td>\n",
       "      <td>0.071632</td>\n",
       "      <td>3.486788</td>\n",
       "      <td>0.393907</td>\n",
       "      <td>0.535455</td>\n",
       "      <td>0.009358</td>\n",
       "    </tr>\n",
       "    <tr>\n",
       "      <th>2</th>\n",
       "      <td>1354.0</td>\n",
       "      <td>30.0</td>\n",
       "      <td>73.22</td>\n",
       "      <td>2.13</td>\n",
       "      <td>5645.0</td>\n",
       "      <td>80.0</td>\n",
       "      <td>0.0</td>\n",
       "      <td>0.935624</td>\n",
       "      <td>0.126949</td>\n",
       "      <td>1.472081</td>\n",
       "      <td>0.092239</td>\n",
       "      <td>1.975649</td>\n",
       "      <td>0.283040</td>\n",
       "      <td>0.431755</td>\n",
       "      <td>0.023262</td>\n",
       "    </tr>\n",
       "  </tbody>\n",
       "</table>\n",
       "</div>"
      ],
      "text/plain": [
       "   nu_max  e_nu_max  delta_nu  e_delta_nu   t_eff  e_t_eff  zeta_corr  \\\n",
       "0  3100.0       NaN    135.20         NaN  5777.0      NaN        0.0   \n",
       "1  1573.0      11.0     80.62        1.88  6433.0     80.0        0.0   \n",
       "2  1354.0      30.0     73.22        2.13  5645.0     80.0        0.0   \n",
       "\n",
       "   mass_seism  e_mass_seism  radius_seism  e_radius_seism  luminosity_seism  \\\n",
       "0    1.000000           NaN      1.000000             NaN          1.000000   \n",
       "1    1.214237      0.118279      1.505880        0.071632          3.486788   \n",
       "2    0.935624      0.126949      1.472081        0.092239          1.975649   \n",
       "\n",
       "   e_luminosity_seism  logg_seism  e_logg_seism  \n",
       "0                 NaN    1.000000           NaN  \n",
       "1            0.393907    0.535455      0.009358  \n",
       "2            0.283040    0.431755      0.023262  "
      ]
     },
     "execution_count": 239,
     "metadata": {},
     "output_type": "execute_result"
    }
   ],
   "source": [
    "SR = asteroseismology.ScalingRelations(\n",
    "    nu_max  =np.array([3100,  1573, 1354]),\n",
    "    delta_nu=np.array([135.2, 80.62, 73.22]),\n",
    "    t_eff   =np.array([5777,  6433, 5645]),\n",
    "    e_nu_max=np.array([np.nan, 11, 30]),\n",
    "    e_delta_nu=np.array([np.nan, 1.88, 2.13]),\n",
    "    e_t_eff=np.array([np.nan, 80, 80]),\n",
    "    zeta_corr=False\n",
    ")\n",
    "print(SR)\n",
    "\n",
    "mass = SR.get_mass()\n",
    "radius = SR.get_radius()\n",
    "logg = SR.get_logg()\n",
    "logL = SR.get_luminosity()\n",
    "\n",
    "df = SR.results2pandas()\n",
    "\n",
    "df"
   ]
  },
  {
   "cell_type": "code",
   "execution_count": null,
   "metadata": {},
   "outputs": [],
   "source": []
  }
 ],
 "metadata": {
  "kernelspec": {
   "display_name": "astrolust",
   "language": "python",
   "name": "python3"
  },
  "language_info": {
   "codemirror_mode": {
    "name": "ipython",
    "version": 3
   },
   "file_extension": ".py",
   "mimetype": "text/x-python",
   "name": "python",
   "nbconvert_exporter": "python",
   "pygments_lexer": "ipython3",
   "version": "3.10.8"
  },
  "orig_nbformat": 4
 },
 "nbformat": 4,
 "nbformat_minor": 2
}
