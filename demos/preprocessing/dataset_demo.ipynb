{
 "cells": [
  {
   "cell_type": "code",
   "execution_count": 1,
   "metadata": {},
   "outputs": [],
   "source": [
    "import importlib\n",
    "import matplotlib.pyplot as plt\n",
    "import numpy as np\n",
    "from sklearn.datasets import make_blobs\n",
    "import sys\n",
    "sys.path.append('../../')\n",
    "\n",
    "\n",
    "from astroLuSt.preprocessing import dataset as alprda\n",
    "from astroLuSt.styles import plot_styles as alstps\n",
    "\n",
    "importlib.reload(alprda)\n",
    "importlib.reload(alstps)\n",
    "\n",
    "#style for plotting\n",
    "_ = alstps.tre_light()\n",
    "\n",
    "np.random.seed(0)\n"
   ]
  },
  {
   "cell_type": "markdown",
   "metadata": {},
   "source": [
    "# Splitting a Dataset"
   ]
  },
  {
   "cell_type": "code",
   "execution_count": 2,
   "metadata": {},
   "outputs": [
    {
     "name": "stdout",
     "output_type": "stream",
     "text": [
      "X_tr.shape=(60, 5), y_tr.shape=(60,)\n",
      "X_va.shape=(10, 5), y_va.shape=(10,)\n",
      "X_te.shape=(30, 5), y_te.shape=(30,)\n"
     ]
    }
   ],
   "source": [
    "X, y = make_blobs(100, n_features=5)\n",
    "\n",
    "\n",
    "X_tr, X_va, X_te, y_tr, y_va, y_te = alprda.data_split([X, y], split_fractions=(0.6,0.1))\n",
    "\n",
    "print(f\"{X_tr.shape=}, {y_tr.shape=}\")\n",
    "print(f\"{X_va.shape=}, {y_va.shape=}\")\n",
    "print(f\"{X_te.shape=}, {y_te.shape=}\")"
   ]
  }
 ],
 "metadata": {
  "kernelspec": {
   "display_name": "astroLuSt",
   "language": "python",
   "name": "python3"
  },
  "language_info": {
   "codemirror_mode": {
    "name": "ipython",
    "version": 3
   },
   "file_extension": ".py",
   "mimetype": "text/x-python",
   "name": "python",
   "nbconvert_exporter": "python",
   "pygments_lexer": "ipython3",
   "version": "3.10.12"
  }
 },
 "nbformat": 4,
 "nbformat_minor": 2
}
