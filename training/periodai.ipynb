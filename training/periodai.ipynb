{
 "cells": [
  {
   "cell_type": "code",
   "execution_count": 4,
   "metadata": {},
   "outputs": [],
   "source": [
    "import sys\n",
    "sys.path.append('..')\n",
    "import matplotlib.pyplot as plt\n",
    "import numpy as np\n",
    "import polars as pl\n",
    "\n",
    "from astroLuSt.synthetics import random as alr\n",
    "from astroLuSt.preprocessing import dataseries_manipulation as aldm\n",
    "\n",
    "import importlib"
   ]
  },
  {
   "attachments": {},
   "cell_type": "markdown",
   "metadata": {},
   "source": [
    "# Generate Training Data"
   ]
  },
  {
   "cell_type": "code",
   "execution_count": 47,
   "metadata": {},
   "outputs": [
    {
     "ename": "ValueError",
     "evalue": "operands could not be broadcast together with shapes (1,10) (20,) ",
     "output_type": "error",
     "traceback": [
      "\u001b[1;31m---------------------------------------------------------------------------\u001b[0m",
      "\u001b[1;31mValueError\u001b[0m                                Traceback (most recent call last)",
      "Cell \u001b[1;32mIn[47], line 16\u001b[0m\n\u001b[0;32m      9\u001b[0m GPS \u001b[39m=\u001b[39m alr\u001b[39m.\u001b[39mGeneratePeriodicSignals(\n\u001b[0;32m     10\u001b[0m     \u001b[39m# periods=periods,\u001b[39;00m\n\u001b[0;32m     11\u001b[0m     \u001b[39m# npoints=npoints,\u001b[39;00m\n\u001b[0;32m     12\u001b[0m     x_offsets\u001b[39m=\u001b[39mx_offsets,\n\u001b[0;32m     13\u001b[0m )\n\u001b[0;32m     14\u001b[0m \u001b[39m# print(GPS)\u001b[39;00m\n\u001b[1;32m---> 16\u001b[0m x_gen, y_gen \u001b[39m=\u001b[39m GPS\u001b[39m.\u001b[39;49mrvs(\n\u001b[0;32m     17\u001b[0m     shape\u001b[39m=\u001b[39;49m\u001b[39mNone\u001b[39;49;00m,\n\u001b[0;32m     18\u001b[0m     \u001b[39m# shape=(5,20),\u001b[39;49;00m\n\u001b[0;32m     19\u001b[0m     choices\u001b[39m=\u001b[39;49m\u001b[39mNone\u001b[39;49;00m,\n\u001b[0;32m     20\u001b[0m     x\u001b[39m=\u001b[39;49m\u001b[39mNone\u001b[39;49;00m,\n\u001b[0;32m     21\u001b[0m     noise_level_x\u001b[39m=\u001b[39;49m\u001b[39m0.2\u001b[39;49m,\n\u001b[0;32m     22\u001b[0m     noise_level_y\u001b[39m=\u001b[39;49m\u001b[39m0.4\u001b[39;49m,\n\u001b[0;32m     23\u001b[0m     func_kwargs\u001b[39m=\u001b[39;49m\u001b[39mNone\u001b[39;49;00m\n\u001b[0;32m     24\u001b[0m )\n\u001b[0;32m     26\u001b[0m fig, axs \u001b[39m=\u001b[39m GPS\u001b[39m.\u001b[39mplot_result()\n\u001b[0;32m     27\u001b[0m plt\u001b[39m.\u001b[39mshow()\n",
      "File \u001b[1;32mc:\\Users\\lukas\\Documents\\GitHub\\astroLuSt\\training\\..\\astroLuSt\\synthetics\\random.py:643\u001b[0m, in \u001b[0;36mGeneratePeriodicSignals.rvs\u001b[1;34m(self, shape, choices, x, noise_level_y, noise_level_x, random_state, func_kwargs)\u001b[0m\n\u001b[0;32m    640\u001b[0m     x_gen\u001b[39m.\u001b[39mappend(xp\u001b[39m.\u001b[39mflatten())\n\u001b[0;32m    641\u001b[0m     y_gen\u001b[39m.\u001b[39mappend(yp\u001b[39m.\u001b[39mflatten())\n\u001b[1;32m--> 643\u001b[0m \u001b[39mself\u001b[39m\u001b[39m.\u001b[39mx_gen \u001b[39m=\u001b[39m np\u001b[39m.\u001b[39;49marray(x_gen, dtype\u001b[39m=\u001b[39;49m\u001b[39mobject\u001b[39;49m) \u001b[39m+\u001b[39;49m x_offsets\n\u001b[0;32m    644\u001b[0m \u001b[39mself\u001b[39m\u001b[39m.\u001b[39my_gen \u001b[39m=\u001b[39m np\u001b[39m.\u001b[39marray(y_gen, dtype\u001b[39m=\u001b[39m\u001b[39mobject\u001b[39m)\n\u001b[0;32m    648\u001b[0m \u001b[39mreturn\u001b[39;00m x_gen, y_gen\n",
      "\u001b[1;31mValueError\u001b[0m: operands could not be broadcast together with shapes (1,10) (20,) "
     ]
    }
   ],
   "source": [
    "importlib.reload(alr)\n",
    "importlib.reload(aldm)\n",
    "\n",
    "nsamples = 20\n",
    "periods = np.random.uniform(0.1, 5, (nsamples,1))\n",
    "npoints = np.random.randint(130, 500, nsamples)\n",
    "x_offsets = np.random.randint(0, 30, nsamples)\n",
    "\n",
    "GPS = alr.GeneratePeriodicSignals(\n",
    "    # periods=periods,\n",
    "    # npoints=npoints,\n",
    "    # x_offsets=x_offsets,\n",
    ")\n",
    "# print(GPS)\n",
    "\n",
    "x_gen, y_gen = GPS.rvs(\n",
    "    shape=None,\n",
    "    # shape=(5,20),\n",
    "    choices=None,\n",
    "    x=None,\n",
    "    noise_level_x=0.2,\n",
    "    noise_level_y=0.4,\n",
    "    func_kwargs=None\n",
    ")\n",
    "\n",
    "fig, axs = GPS.plot_result()\n",
    "plt.show()\n",
    "\n",
    "for idx in range(3):\n",
    "    plt.scatter(aldm.fold(x_gen[idx], periods[idx])[0], y_gen[idx])\n"
   ]
  }
 ],
 "metadata": {
  "kernelspec": {
   "display_name": "astroLuSt",
   "language": "python",
   "name": "python3"
  },
  "language_info": {
   "codemirror_mode": {
    "name": "ipython",
    "version": 3
   },
   "file_extension": ".py",
   "mimetype": "text/x-python",
   "name": "python",
   "nbconvert_exporter": "python",
   "pygments_lexer": "ipython3",
   "version": "3.10.8"
  },
  "orig_nbformat": 4
 },
 "nbformat": 4,
 "nbformat_minor": 2
}
